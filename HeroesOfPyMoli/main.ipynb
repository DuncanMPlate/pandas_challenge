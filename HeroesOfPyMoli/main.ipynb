{
 "metadata": {
  "language_info": {
   "codemirror_mode": {
    "name": "ipython",
    "version": 3
   },
   "file_extension": ".py",
   "mimetype": "text/x-python",
   "name": "python",
   "nbconvert_exporter": "python",
   "pygments_lexer": "ipython3",
   "version": "3.8.5"
  },
  "orig_nbformat": 2,
  "kernelspec": {
   "name": "python385jvsc74a57bd0b0a9f33692871a1761bb188765a27ca2753be8760bb4938905d6f8b44f73aa95",
   "display_name": "Python 3.8.5 64-bit ('base': conda)"
  }
 },
 "nbformat": 4,
 "nbformat_minor": 2,
 "cells": [
  {
   "cell_type": "code",
   "execution_count": 121,
   "metadata": {},
   "outputs": [],
   "source": [
    "import os\n",
    "import pandas as pd\n",
    "import csv\n"
   ]
  },
  {
   "cell_type": "code",
   "execution_count": 122,
   "metadata": {},
   "outputs": [],
   "source": [
    "csv_path = os.path.join(os.getcwd(), 'Resources', 'purchase_data.csv')\n",
    "purchase_df = pd.read_csv(csv_path)\n"
   ]
  },
  {
   "cell_type": "code",
   "execution_count": 123,
   "metadata": {},
   "outputs": [
    {
     "output_type": "execute_result",
     "data": {
      "text/plain": [
       "     Purchase ID             SN  Age  Gender  Item ID  \\\n",
       "0              0        Lisim78   20    Male      108   \n",
       "1              1    Lisovynya38   40    Male      143   \n",
       "2              2     Ithergue48   24    Male       92   \n",
       "3              3  Chamassasya86   24    Male      100   \n",
       "4              4      Iskosia90   23    Male      131   \n",
       "..           ...            ...  ...     ...      ...   \n",
       "775          775     Aethedru70   21  Female       60   \n",
       "776          776         Iral74   21    Male      164   \n",
       "777          777     Yathecal72   20    Male       67   \n",
       "778          778        Sisur91    7    Male       92   \n",
       "779          779      Ennrian78   24    Male       50   \n",
       "\n",
       "                                     Item Name  Price  \n",
       "0    Extraction, Quickblade Of Trembling Hands   3.53  \n",
       "1                            Frenzied Scimitar   1.56  \n",
       "2                                 Final Critic   4.88  \n",
       "3                                  Blindscythe   3.27  \n",
       "4                                         Fury   1.44  \n",
       "..                                         ...    ...  \n",
       "775                                       Wolf   3.54  \n",
       "776                           Exiled Doomblade   1.63  \n",
       "777      Celeste, Incarnation of the Corrupted   3.46  \n",
       "778                               Final Critic   4.19  \n",
       "779                                       Dawn   4.60  \n",
       "\n",
       "[780 rows x 7 columns]"
      ],
      "text/html": "<div>\n<style scoped>\n    .dataframe tbody tr th:only-of-type {\n        vertical-align: middle;\n    }\n\n    .dataframe tbody tr th {\n        vertical-align: top;\n    }\n\n    .dataframe thead th {\n        text-align: right;\n    }\n</style>\n<table border=\"1\" class=\"dataframe\">\n  <thead>\n    <tr style=\"text-align: right;\">\n      <th></th>\n      <th>Purchase ID</th>\n      <th>SN</th>\n      <th>Age</th>\n      <th>Gender</th>\n      <th>Item ID</th>\n      <th>Item Name</th>\n      <th>Price</th>\n    </tr>\n  </thead>\n  <tbody>\n    <tr>\n      <th>0</th>\n      <td>0</td>\n      <td>Lisim78</td>\n      <td>20</td>\n      <td>Male</td>\n      <td>108</td>\n      <td>Extraction, Quickblade Of Trembling Hands</td>\n      <td>3.53</td>\n    </tr>\n    <tr>\n      <th>1</th>\n      <td>1</td>\n      <td>Lisovynya38</td>\n      <td>40</td>\n      <td>Male</td>\n      <td>143</td>\n      <td>Frenzied Scimitar</td>\n      <td>1.56</td>\n    </tr>\n    <tr>\n      <th>2</th>\n      <td>2</td>\n      <td>Ithergue48</td>\n      <td>24</td>\n      <td>Male</td>\n      <td>92</td>\n      <td>Final Critic</td>\n      <td>4.88</td>\n    </tr>\n    <tr>\n      <th>3</th>\n      <td>3</td>\n      <td>Chamassasya86</td>\n      <td>24</td>\n      <td>Male</td>\n      <td>100</td>\n      <td>Blindscythe</td>\n      <td>3.27</td>\n    </tr>\n    <tr>\n      <th>4</th>\n      <td>4</td>\n      <td>Iskosia90</td>\n      <td>23</td>\n      <td>Male</td>\n      <td>131</td>\n      <td>Fury</td>\n      <td>1.44</td>\n    </tr>\n    <tr>\n      <th>...</th>\n      <td>...</td>\n      <td>...</td>\n      <td>...</td>\n      <td>...</td>\n      <td>...</td>\n      <td>...</td>\n      <td>...</td>\n    </tr>\n    <tr>\n      <th>775</th>\n      <td>775</td>\n      <td>Aethedru70</td>\n      <td>21</td>\n      <td>Female</td>\n      <td>60</td>\n      <td>Wolf</td>\n      <td>3.54</td>\n    </tr>\n    <tr>\n      <th>776</th>\n      <td>776</td>\n      <td>Iral74</td>\n      <td>21</td>\n      <td>Male</td>\n      <td>164</td>\n      <td>Exiled Doomblade</td>\n      <td>1.63</td>\n    </tr>\n    <tr>\n      <th>777</th>\n      <td>777</td>\n      <td>Yathecal72</td>\n      <td>20</td>\n      <td>Male</td>\n      <td>67</td>\n      <td>Celeste, Incarnation of the Corrupted</td>\n      <td>3.46</td>\n    </tr>\n    <tr>\n      <th>778</th>\n      <td>778</td>\n      <td>Sisur91</td>\n      <td>7</td>\n      <td>Male</td>\n      <td>92</td>\n      <td>Final Critic</td>\n      <td>4.19</td>\n    </tr>\n    <tr>\n      <th>779</th>\n      <td>779</td>\n      <td>Ennrian78</td>\n      <td>24</td>\n      <td>Male</td>\n      <td>50</td>\n      <td>Dawn</td>\n      <td>4.60</td>\n    </tr>\n  </tbody>\n</table>\n<p>780 rows × 7 columns</p>\n</div>"
     },
     "metadata": {},
     "execution_count": 123
    }
   ],
   "source": [
    "purchase_df"
   ]
  },
  {
   "cell_type": "code",
   "execution_count": 124,
   "metadata": {},
   "outputs": [
    {
     "output_type": "execute_result",
     "data": {
      "text/plain": [
       "Lisosia93        5\n",
       "Iral74           4\n",
       "Idastidru52      4\n",
       "Umolrian85       3\n",
       "Strithenu87      3\n",
       "                ..\n",
       "Yalostiphos68    1\n",
       "Maridisya31      1\n",
       "Tyaelo67         1\n",
       "Jiskjask85       1\n",
       "Aesur96          1\n",
       "Name: SN, Length: 576, dtype: int64"
      ]
     },
     "metadata": {},
     "execution_count": 124
    }
   ],
   "source": [
    "purchase_df[\"SN\"].value_counts()\n"
   ]
  },
  {
   "cell_type": "code",
   "execution_count": 143,
   "metadata": {},
   "outputs": [],
   "source": [
    "\n",
    "total_players = pd.DataFrame(purchase_df, columns=[\"SN\"])"
   ]
  },
  {
   "cell_type": "code",
   "execution_count": 146,
   "metadata": {},
   "outputs": [
    {
     "output_type": "execute_result",
     "data": {
      "text/plain": [
       "                SN\n",
       "0          Lisim78\n",
       "1      Lisovynya38\n",
       "2       Ithergue48\n",
       "3    Chamassasya86\n",
       "4        Iskosia90\n",
       "..             ...\n",
       "773         Hala31\n",
       "774     Jiskjask80\n",
       "775     Aethedru70\n",
       "777     Yathecal72\n",
       "778        Sisur91\n",
       "\n",
       "[576 rows x 1 columns]"
      ],
      "text/html": "<div>\n<style scoped>\n    .dataframe tbody tr th:only-of-type {\n        vertical-align: middle;\n    }\n\n    .dataframe tbody tr th {\n        vertical-align: top;\n    }\n\n    .dataframe thead th {\n        text-align: right;\n    }\n</style>\n<table border=\"1\" class=\"dataframe\">\n  <thead>\n    <tr style=\"text-align: right;\">\n      <th></th>\n      <th>SN</th>\n    </tr>\n  </thead>\n  <tbody>\n    <tr>\n      <th>0</th>\n      <td>Lisim78</td>\n    </tr>\n    <tr>\n      <th>1</th>\n      <td>Lisovynya38</td>\n    </tr>\n    <tr>\n      <th>2</th>\n      <td>Ithergue48</td>\n    </tr>\n    <tr>\n      <th>3</th>\n      <td>Chamassasya86</td>\n    </tr>\n    <tr>\n      <th>4</th>\n      <td>Iskosia90</td>\n    </tr>\n    <tr>\n      <th>...</th>\n      <td>...</td>\n    </tr>\n    <tr>\n      <th>773</th>\n      <td>Hala31</td>\n    </tr>\n    <tr>\n      <th>774</th>\n      <td>Jiskjask80</td>\n    </tr>\n    <tr>\n      <th>775</th>\n      <td>Aethedru70</td>\n    </tr>\n    <tr>\n      <th>777</th>\n      <td>Yathecal72</td>\n    </tr>\n    <tr>\n      <th>778</th>\n      <td>Sisur91</td>\n    </tr>\n  </tbody>\n</table>\n<p>576 rows × 1 columns</p>\n</div>"
     },
     "metadata": {},
     "execution_count": 146
    }
   ],
   "source": [
    "total_players.drop_duplicates()"
   ]
  },
  {
   "cell_type": "code",
   "execution_count": 148,
   "metadata": {},
   "outputs": [],
   "source": [
    "clean_total_players = total_players.drop_duplicates()"
   ]
  },
  {
   "cell_type": "code",
   "execution_count": 149,
   "metadata": {},
   "outputs": [
    {
     "output_type": "execute_result",
     "data": {
      "text/plain": [
       "576"
      ]
     },
     "metadata": {},
     "execution_count": 149
    }
   ],
   "source": [
    "#Total number of players\n",
    "len(clean_total_players)\n"
   ]
  },
  {
   "cell_type": "code",
   "execution_count": 128,
   "metadata": {},
   "outputs": [],
   "source": [
    "#Number of Unique Items\n",
    "unique_items = purchase_df[\"Item Name\"].unique()"
   ]
  },
  {
   "cell_type": "code",
   "execution_count": 129,
   "metadata": {},
   "outputs": [
    {
     "output_type": "execute_result",
     "data": {
      "text/plain": [
       "179"
      ]
     },
     "metadata": {},
     "execution_count": 129
    }
   ],
   "source": [
    "len(unique_items)"
   ]
  },
  {
   "cell_type": "code",
   "execution_count": 130,
   "metadata": {},
   "outputs": [],
   "source": [
    "#Average Purchase Price\n",
    "average_price = purchase_df['Price'].mean()"
   ]
  },
  {
   "cell_type": "code",
   "execution_count": 131,
   "metadata": {},
   "outputs": [
    {
     "output_type": "execute_result",
     "data": {
      "text/plain": [
       "3.050987179487176"
      ]
     },
     "metadata": {},
     "execution_count": 131
    }
   ],
   "source": [
    "average_price"
   ]
  },
  {
   "cell_type": "code",
   "execution_count": 132,
   "metadata": {},
   "outputs": [
    {
     "output_type": "execute_result",
     "data": {
      "text/plain": [
       "780"
      ]
     },
     "metadata": {},
     "execution_count": 132
    }
   ],
   "source": [
    "#Total Number of Purchases\n",
    "total_purchases = purchase_df['Purchase ID'].unique()\n",
    "len(total_purchases)"
   ]
  },
  {
   "cell_type": "code",
   "execution_count": 133,
   "metadata": {},
   "outputs": [],
   "source": [
    "#Total Revenue\n",
    "total_revenue = purchase_df['Price'].sum()"
   ]
  },
  {
   "cell_type": "code",
   "execution_count": 134,
   "metadata": {},
   "outputs": [
    {
     "output_type": "execute_result",
     "data": {
      "text/plain": [
       "2379.77"
      ]
     },
     "metadata": {},
     "execution_count": 134
    }
   ],
   "source": [
    "total_revenue"
   ]
  },
  {
   "cell_type": "code",
   "execution_count": 140,
   "metadata": {},
   "outputs": [],
   "source": [
    "gendered_players = pd.DataFrame(purchase_df, columns=[\n",
    "                        \"Gender\", \"SN\"])"
   ]
  },
  {
   "cell_type": "code",
   "execution_count": 150,
   "metadata": {},
   "outputs": [],
   "source": [
    "\n",
    "merge_df = pd.merge(clean_total_players, gendered_players, on=\"SN\", how=\"left\")"
   ]
  },
  {
   "cell_type": "code",
   "execution_count": 154,
   "metadata": {},
   "outputs": [],
   "source": [
    "clean_merge_df = merge_df.drop_duplicates()"
   ]
  },
  {
   "cell_type": "code",
   "execution_count": 155,
   "metadata": {},
   "outputs": [
    {
     "output_type": "execute_result",
     "data": {
      "text/plain": [
       "                SN  Gender\n",
       "0          Lisim78    Male\n",
       "3      Lisovynya38    Male\n",
       "4       Ithergue48    Male\n",
       "5    Chamassasya86    Male\n",
       "6        Iskosia90    Male\n",
       "..             ...     ...\n",
       "775         Hala31    Male\n",
       "776     Jiskjask80    Male\n",
       "777     Aethedru70  Female\n",
       "778     Yathecal72    Male\n",
       "779        Sisur91    Male\n",
       "\n",
       "[576 rows x 2 columns]"
      ],
      "text/html": "<div>\n<style scoped>\n    .dataframe tbody tr th:only-of-type {\n        vertical-align: middle;\n    }\n\n    .dataframe tbody tr th {\n        vertical-align: top;\n    }\n\n    .dataframe thead th {\n        text-align: right;\n    }\n</style>\n<table border=\"1\" class=\"dataframe\">\n  <thead>\n    <tr style=\"text-align: right;\">\n      <th></th>\n      <th>SN</th>\n      <th>Gender</th>\n    </tr>\n  </thead>\n  <tbody>\n    <tr>\n      <th>0</th>\n      <td>Lisim78</td>\n      <td>Male</td>\n    </tr>\n    <tr>\n      <th>3</th>\n      <td>Lisovynya38</td>\n      <td>Male</td>\n    </tr>\n    <tr>\n      <th>4</th>\n      <td>Ithergue48</td>\n      <td>Male</td>\n    </tr>\n    <tr>\n      <th>5</th>\n      <td>Chamassasya86</td>\n      <td>Male</td>\n    </tr>\n    <tr>\n      <th>6</th>\n      <td>Iskosia90</td>\n      <td>Male</td>\n    </tr>\n    <tr>\n      <th>...</th>\n      <td>...</td>\n      <td>...</td>\n    </tr>\n    <tr>\n      <th>775</th>\n      <td>Hala31</td>\n      <td>Male</td>\n    </tr>\n    <tr>\n      <th>776</th>\n      <td>Jiskjask80</td>\n      <td>Male</td>\n    </tr>\n    <tr>\n      <th>777</th>\n      <td>Aethedru70</td>\n      <td>Female</td>\n    </tr>\n    <tr>\n      <th>778</th>\n      <td>Yathecal72</td>\n      <td>Male</td>\n    </tr>\n    <tr>\n      <th>779</th>\n      <td>Sisur91</td>\n      <td>Male</td>\n    </tr>\n  </tbody>\n</table>\n<p>576 rows × 2 columns</p>\n</div>"
     },
     "metadata": {},
     "execution_count": 155
    }
   ],
   "source": [
    "clean_merge_df"
   ]
  },
  {
   "cell_type": "code",
   "execution_count": 158,
   "metadata": {},
   "outputs": [],
   "source": [
    "male_players = 0\n",
    "for x in clean_merge_df['Gender']:\n",
    "    if x == 'Male':\n",
    "        male_players+=1"
   ]
  },
  {
   "cell_type": "code",
   "execution_count": 159,
   "metadata": {},
   "outputs": [
    {
     "output_type": "execute_result",
     "data": {
      "text/plain": [
       "484"
      ]
     },
     "metadata": {},
     "execution_count": 159
    }
   ],
   "source": [
    "male_players\n"
   ]
  },
  {
   "cell_type": "code",
   "execution_count": 160,
   "metadata": {},
   "outputs": [],
   "source": [
    "female_players = 0\n",
    "for x in clean_merge_df['Gender']:\n",
    "    if x == 'Female':\n",
    "        female_players+=1"
   ]
  },
  {
   "cell_type": "code",
   "execution_count": 161,
   "metadata": {},
   "outputs": [],
   "source": [
    "other_players = 0\n",
    "for x in clean_merge_df['Gender']:\n",
    "    if x == 'Other / Non-Disclosed':\n",
    "        other_players+=1"
   ]
  },
  {
   "cell_type": "code",
   "execution_count": 171,
   "metadata": {},
   "outputs": [],
   "source": [
    "#Percentage and count of Other/NonDisclosed Players\n",
    "other_players_percent =  \"{:.001%}\".format(other_players/len(clean_merge_df['Gender']))"
   ]
  },
  {
   "cell_type": "code",
   "execution_count": 173,
   "metadata": {},
   "outputs": [],
   "source": [
    "\n",
    "male_players_percent = \"{:.001%}\".format(male_players/len(clean_merge_df['Gender']))"
   ]
  },
  {
   "cell_type": "code",
   "execution_count": 174,
   "metadata": {},
   "outputs": [],
   "source": [
    "#Percentage and Count of Female Player\n",
    "female_players_percent = \"{:.001%}\".format(female_players/len(clean_merge_df['Gender']))"
   ]
  },
  {
   "cell_type": "code",
   "execution_count": 175,
   "metadata": {},
   "outputs": [
    {
     "output_type": "execute_result",
     "data": {
      "text/plain": [
       "'84.0%'"
      ]
     },
     "metadata": {},
     "execution_count": 175
    }
   ],
   "source": [
    "#Percentage and Count of Male Players\n",
    "male_players_percent\n"
   ]
  },
  {
   "cell_type": "code",
   "execution_count": 180,
   "metadata": {},
   "outputs": [
    {
     "output_type": "execute_result",
     "data": {
      "text/plain": [
       "484"
      ]
     },
     "metadata": {},
     "execution_count": 180
    }
   ],
   "source": [
    "male_players"
   ]
  },
  {
   "cell_type": "code",
   "execution_count": null,
   "metadata": {},
   "outputs": [],
   "source": [
    "#Percentage and Count of Female Player\n",
    "female_players_percent\n"
   ]
  },
  {
   "cell_type": "code",
   "execution_count": 178,
   "metadata": {},
   "outputs": [
    {
     "output_type": "execute_result",
     "data": {
      "text/plain": [
       "11"
      ]
     },
     "metadata": {},
     "execution_count": 178
    }
   ],
   "source": [
    "#Percentage and count of Other/NonDisclosed Players\n",
    "other_players\n"
   ]
  },
  {
   "cell_type": "code",
   "execution_count": 179,
   "metadata": {},
   "outputs": [
    {
     "output_type": "execute_result",
     "data": {
      "text/plain": [
       "'1.9%'"
      ]
     },
     "metadata": {},
     "execution_count": 179
    }
   ],
   "source": [
    "other_players_percent"
   ]
  },
  {
   "cell_type": "code",
   "execution_count": null,
   "metadata": {},
   "outputs": [],
   "source": []
  },
  {
   "cell_type": "code",
   "execution_count": 21,
   "metadata": {},
   "outputs": [],
   "source": [
    "#Purchase Count, Average Purcahse Price, Total Purchase Value, and Average Purchase Totale Per Person\n",
    "#Break Each value down by gender"
   ]
  },
  {
   "cell_type": "code",
   "execution_count": 22,
   "metadata": {},
   "outputs": [],
   "source": [
    "#Break Values Down into bins of 4 years\n"
   ]
  },
  {
   "cell_type": "code",
   "execution_count": 23,
   "metadata": {},
   "outputs": [],
   "source": [
    "#Identify the whales by total purchase values then list(in a table)\n",
    "#SN\n",
    "#Purchase Count\n",
    "#Average Purchase Price\n",
    "#Total Purchase Value"
   ]
  },
  {
   "cell_type": "code",
   "execution_count": 24,
   "metadata": {},
   "outputs": [],
   "source": [
    "#Identify the 5 Most Popular Items by Purchase Count, then list(in a table)\n",
    "#Item ID\n",
    "#Item Name\n",
    "#Purchase Count\n",
    "#Item Price\n",
    "#Total Purchase Value"
   ]
  },
  {
   "cell_type": "code",
   "execution_count": null,
   "metadata": {},
   "outputs": [],
   "source": [
    "#Identify the 5 Most Profitable Items by total purchase value, then list(in a table)\n",
    "#Item Id\n",
    "#Item Name\n",
    "#Purchase Count\n",
    "#Item Price\n",
    "#Total Purchase Value"
   ]
  }
 ]
}