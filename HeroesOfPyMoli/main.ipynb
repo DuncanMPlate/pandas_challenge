{
 "metadata": {
  "language_info": {
   "codemirror_mode": {
    "name": "ipython",
    "version": 3
   },
   "file_extension": ".py",
   "mimetype": "text/x-python",
   "name": "python",
   "nbconvert_exporter": "python",
   "pygments_lexer": "ipython3",
   "version": "3.8.5"
  },
  "orig_nbformat": 2,
  "kernelspec": {
   "name": "python385jvsc74a57bd0b0a9f33692871a1761bb188765a27ca2753be8760bb4938905d6f8b44f73aa95",
   "display_name": "Python 3.8.5 64-bit ('base': conda)"
  }
 },
 "nbformat": 4,
 "nbformat_minor": 2,
 "cells": [
  {
   "cell_type": "code",
   "execution_count": 481,
   "metadata": {},
   "outputs": [],
   "source": [
    "import os\n",
    "import pandas as pd\n",
    "import csv\n"
   ]
  },
  {
   "cell_type": "code",
   "execution_count": 482,
   "metadata": {},
   "outputs": [],
   "source": [
    "csv_path = os.path.join(os.getcwd(), 'Resources', 'purchase_data.csv')\n",
    "purchase_df = pd.read_csv(csv_path)\n"
   ]
  },
  {
   "cell_type": "code",
   "execution_count": 483,
   "metadata": {},
   "outputs": [
    {
     "output_type": "execute_result",
     "data": {
      "text/plain": [
       "     Purchase ID             SN  Age  Gender  Item ID  \\\n",
       "0              0        Lisim78   20    Male      108   \n",
       "1              1    Lisovynya38   40    Male      143   \n",
       "2              2     Ithergue48   24    Male       92   \n",
       "3              3  Chamassasya86   24    Male      100   \n",
       "4              4      Iskosia90   23    Male      131   \n",
       "..           ...            ...  ...     ...      ...   \n",
       "775          775     Aethedru70   21  Female       60   \n",
       "776          776         Iral74   21    Male      164   \n",
       "777          777     Yathecal72   20    Male       67   \n",
       "778          778        Sisur91    7    Male       92   \n",
       "779          779      Ennrian78   24    Male       50   \n",
       "\n",
       "                                     Item Name  Price  \n",
       "0    Extraction, Quickblade Of Trembling Hands   3.53  \n",
       "1                            Frenzied Scimitar   1.56  \n",
       "2                                 Final Critic   4.88  \n",
       "3                                  Blindscythe   3.27  \n",
       "4                                         Fury   1.44  \n",
       "..                                         ...    ...  \n",
       "775                                       Wolf   3.54  \n",
       "776                           Exiled Doomblade   1.63  \n",
       "777      Celeste, Incarnation of the Corrupted   3.46  \n",
       "778                               Final Critic   4.19  \n",
       "779                                       Dawn   4.60  \n",
       "\n",
       "[780 rows x 7 columns]"
      ],
      "text/html": "<div>\n<style scoped>\n    .dataframe tbody tr th:only-of-type {\n        vertical-align: middle;\n    }\n\n    .dataframe tbody tr th {\n        vertical-align: top;\n    }\n\n    .dataframe thead th {\n        text-align: right;\n    }\n</style>\n<table border=\"1\" class=\"dataframe\">\n  <thead>\n    <tr style=\"text-align: right;\">\n      <th></th>\n      <th>Purchase ID</th>\n      <th>SN</th>\n      <th>Age</th>\n      <th>Gender</th>\n      <th>Item ID</th>\n      <th>Item Name</th>\n      <th>Price</th>\n    </tr>\n  </thead>\n  <tbody>\n    <tr>\n      <th>0</th>\n      <td>0</td>\n      <td>Lisim78</td>\n      <td>20</td>\n      <td>Male</td>\n      <td>108</td>\n      <td>Extraction, Quickblade Of Trembling Hands</td>\n      <td>3.53</td>\n    </tr>\n    <tr>\n      <th>1</th>\n      <td>1</td>\n      <td>Lisovynya38</td>\n      <td>40</td>\n      <td>Male</td>\n      <td>143</td>\n      <td>Frenzied Scimitar</td>\n      <td>1.56</td>\n    </tr>\n    <tr>\n      <th>2</th>\n      <td>2</td>\n      <td>Ithergue48</td>\n      <td>24</td>\n      <td>Male</td>\n      <td>92</td>\n      <td>Final Critic</td>\n      <td>4.88</td>\n    </tr>\n    <tr>\n      <th>3</th>\n      <td>3</td>\n      <td>Chamassasya86</td>\n      <td>24</td>\n      <td>Male</td>\n      <td>100</td>\n      <td>Blindscythe</td>\n      <td>3.27</td>\n    </tr>\n    <tr>\n      <th>4</th>\n      <td>4</td>\n      <td>Iskosia90</td>\n      <td>23</td>\n      <td>Male</td>\n      <td>131</td>\n      <td>Fury</td>\n      <td>1.44</td>\n    </tr>\n    <tr>\n      <th>...</th>\n      <td>...</td>\n      <td>...</td>\n      <td>...</td>\n      <td>...</td>\n      <td>...</td>\n      <td>...</td>\n      <td>...</td>\n    </tr>\n    <tr>\n      <th>775</th>\n      <td>775</td>\n      <td>Aethedru70</td>\n      <td>21</td>\n      <td>Female</td>\n      <td>60</td>\n      <td>Wolf</td>\n      <td>3.54</td>\n    </tr>\n    <tr>\n      <th>776</th>\n      <td>776</td>\n      <td>Iral74</td>\n      <td>21</td>\n      <td>Male</td>\n      <td>164</td>\n      <td>Exiled Doomblade</td>\n      <td>1.63</td>\n    </tr>\n    <tr>\n      <th>777</th>\n      <td>777</td>\n      <td>Yathecal72</td>\n      <td>20</td>\n      <td>Male</td>\n      <td>67</td>\n      <td>Celeste, Incarnation of the Corrupted</td>\n      <td>3.46</td>\n    </tr>\n    <tr>\n      <th>778</th>\n      <td>778</td>\n      <td>Sisur91</td>\n      <td>7</td>\n      <td>Male</td>\n      <td>92</td>\n      <td>Final Critic</td>\n      <td>4.19</td>\n    </tr>\n    <tr>\n      <th>779</th>\n      <td>779</td>\n      <td>Ennrian78</td>\n      <td>24</td>\n      <td>Male</td>\n      <td>50</td>\n      <td>Dawn</td>\n      <td>4.60</td>\n    </tr>\n  </tbody>\n</table>\n<p>780 rows × 7 columns</p>\n</div>"
     },
     "metadata": {},
     "execution_count": 483
    }
   ],
   "source": [
    "purchase_df"
   ]
  },
  {
   "cell_type": "code",
   "execution_count": 484,
   "metadata": {},
   "outputs": [],
   "source": [
    "clean_df = purchase_df.drop_duplicates(\"SN\")"
   ]
  },
  {
   "cell_type": "code",
   "execution_count": 485,
   "metadata": {},
   "outputs": [
    {
     "output_type": "execute_result",
     "data": {
      "text/plain": [
       "     Purchase ID             SN  Age  Gender  Item ID  \\\n",
       "0              0        Lisim78   20    Male      108   \n",
       "1              1    Lisovynya38   40    Male      143   \n",
       "2              2     Ithergue48   24    Male       92   \n",
       "3              3  Chamassasya86   24    Male      100   \n",
       "4              4      Iskosia90   23    Male      131   \n",
       "..           ...            ...  ...     ...      ...   \n",
       "773          773         Hala31   21    Male       19   \n",
       "774          774     Jiskjask80   11    Male       92   \n",
       "775          775     Aethedru70   21  Female       60   \n",
       "777          777     Yathecal72   20    Male       67   \n",
       "778          778        Sisur91    7    Male       92   \n",
       "\n",
       "                                     Item Name  Price  \n",
       "0    Extraction, Quickblade Of Trembling Hands   3.53  \n",
       "1                            Frenzied Scimitar   1.56  \n",
       "2                                 Final Critic   4.88  \n",
       "3                                  Blindscythe   3.27  \n",
       "4                                         Fury   1.44  \n",
       "..                                         ...    ...  \n",
       "773              Pursuit, Cudgel of Necromancy   1.02  \n",
       "774                               Final Critic   4.19  \n",
       "775                                       Wolf   3.54  \n",
       "777      Celeste, Incarnation of the Corrupted   3.46  \n",
       "778                               Final Critic   4.19  \n",
       "\n",
       "[576 rows x 7 columns]"
      ],
      "text/html": "<div>\n<style scoped>\n    .dataframe tbody tr th:only-of-type {\n        vertical-align: middle;\n    }\n\n    .dataframe tbody tr th {\n        vertical-align: top;\n    }\n\n    .dataframe thead th {\n        text-align: right;\n    }\n</style>\n<table border=\"1\" class=\"dataframe\">\n  <thead>\n    <tr style=\"text-align: right;\">\n      <th></th>\n      <th>Purchase ID</th>\n      <th>SN</th>\n      <th>Age</th>\n      <th>Gender</th>\n      <th>Item ID</th>\n      <th>Item Name</th>\n      <th>Price</th>\n    </tr>\n  </thead>\n  <tbody>\n    <tr>\n      <th>0</th>\n      <td>0</td>\n      <td>Lisim78</td>\n      <td>20</td>\n      <td>Male</td>\n      <td>108</td>\n      <td>Extraction, Quickblade Of Trembling Hands</td>\n      <td>3.53</td>\n    </tr>\n    <tr>\n      <th>1</th>\n      <td>1</td>\n      <td>Lisovynya38</td>\n      <td>40</td>\n      <td>Male</td>\n      <td>143</td>\n      <td>Frenzied Scimitar</td>\n      <td>1.56</td>\n    </tr>\n    <tr>\n      <th>2</th>\n      <td>2</td>\n      <td>Ithergue48</td>\n      <td>24</td>\n      <td>Male</td>\n      <td>92</td>\n      <td>Final Critic</td>\n      <td>4.88</td>\n    </tr>\n    <tr>\n      <th>3</th>\n      <td>3</td>\n      <td>Chamassasya86</td>\n      <td>24</td>\n      <td>Male</td>\n      <td>100</td>\n      <td>Blindscythe</td>\n      <td>3.27</td>\n    </tr>\n    <tr>\n      <th>4</th>\n      <td>4</td>\n      <td>Iskosia90</td>\n      <td>23</td>\n      <td>Male</td>\n      <td>131</td>\n      <td>Fury</td>\n      <td>1.44</td>\n    </tr>\n    <tr>\n      <th>...</th>\n      <td>...</td>\n      <td>...</td>\n      <td>...</td>\n      <td>...</td>\n      <td>...</td>\n      <td>...</td>\n      <td>...</td>\n    </tr>\n    <tr>\n      <th>773</th>\n      <td>773</td>\n      <td>Hala31</td>\n      <td>21</td>\n      <td>Male</td>\n      <td>19</td>\n      <td>Pursuit, Cudgel of Necromancy</td>\n      <td>1.02</td>\n    </tr>\n    <tr>\n      <th>774</th>\n      <td>774</td>\n      <td>Jiskjask80</td>\n      <td>11</td>\n      <td>Male</td>\n      <td>92</td>\n      <td>Final Critic</td>\n      <td>4.19</td>\n    </tr>\n    <tr>\n      <th>775</th>\n      <td>775</td>\n      <td>Aethedru70</td>\n      <td>21</td>\n      <td>Female</td>\n      <td>60</td>\n      <td>Wolf</td>\n      <td>3.54</td>\n    </tr>\n    <tr>\n      <th>777</th>\n      <td>777</td>\n      <td>Yathecal72</td>\n      <td>20</td>\n      <td>Male</td>\n      <td>67</td>\n      <td>Celeste, Incarnation of the Corrupted</td>\n      <td>3.46</td>\n    </tr>\n    <tr>\n      <th>778</th>\n      <td>778</td>\n      <td>Sisur91</td>\n      <td>7</td>\n      <td>Male</td>\n      <td>92</td>\n      <td>Final Critic</td>\n      <td>4.19</td>\n    </tr>\n  </tbody>\n</table>\n<p>576 rows × 7 columns</p>\n</div>"
     },
     "metadata": {},
     "execution_count": 485
    }
   ],
   "source": [
    "clean_df"
   ]
  },
  {
   "cell_type": "code",
   "execution_count": 486,
   "metadata": {},
   "outputs": [],
   "source": [
    "\n",
    "total_players = pd.DataFrame(purchase_df, columns=[\"SN\"])"
   ]
  },
  {
   "cell_type": "code",
   "execution_count": 487,
   "metadata": {},
   "outputs": [
    {
     "output_type": "execute_result",
     "data": {
      "text/plain": [
       "                SN\n",
       "0          Lisim78\n",
       "1      Lisovynya38\n",
       "2       Ithergue48\n",
       "3    Chamassasya86\n",
       "4        Iskosia90\n",
       "..             ...\n",
       "773         Hala31\n",
       "774     Jiskjask80\n",
       "775     Aethedru70\n",
       "777     Yathecal72\n",
       "778        Sisur91\n",
       "\n",
       "[576 rows x 1 columns]"
      ],
      "text/html": "<div>\n<style scoped>\n    .dataframe tbody tr th:only-of-type {\n        vertical-align: middle;\n    }\n\n    .dataframe tbody tr th {\n        vertical-align: top;\n    }\n\n    .dataframe thead th {\n        text-align: right;\n    }\n</style>\n<table border=\"1\" class=\"dataframe\">\n  <thead>\n    <tr style=\"text-align: right;\">\n      <th></th>\n      <th>SN</th>\n    </tr>\n  </thead>\n  <tbody>\n    <tr>\n      <th>0</th>\n      <td>Lisim78</td>\n    </tr>\n    <tr>\n      <th>1</th>\n      <td>Lisovynya38</td>\n    </tr>\n    <tr>\n      <th>2</th>\n      <td>Ithergue48</td>\n    </tr>\n    <tr>\n      <th>3</th>\n      <td>Chamassasya86</td>\n    </tr>\n    <tr>\n      <th>4</th>\n      <td>Iskosia90</td>\n    </tr>\n    <tr>\n      <th>...</th>\n      <td>...</td>\n    </tr>\n    <tr>\n      <th>773</th>\n      <td>Hala31</td>\n    </tr>\n    <tr>\n      <th>774</th>\n      <td>Jiskjask80</td>\n    </tr>\n    <tr>\n      <th>775</th>\n      <td>Aethedru70</td>\n    </tr>\n    <tr>\n      <th>777</th>\n      <td>Yathecal72</td>\n    </tr>\n    <tr>\n      <th>778</th>\n      <td>Sisur91</td>\n    </tr>\n  </tbody>\n</table>\n<p>576 rows × 1 columns</p>\n</div>"
     },
     "metadata": {},
     "execution_count": 487
    }
   ],
   "source": [
    "total_players.drop_duplicates()"
   ]
  },
  {
   "cell_type": "code",
   "execution_count": 488,
   "metadata": {},
   "outputs": [],
   "source": [
    "clean_total_players = total_players.drop_duplicates()"
   ]
  },
  {
   "cell_type": "code",
   "execution_count": 489,
   "metadata": {},
   "outputs": [],
   "source": [
    "#Total number of players\n",
    "total_players2 = len(clean_total_players)\n"
   ]
  },
  {
   "cell_type": "code",
   "execution_count": 490,
   "metadata": {},
   "outputs": [],
   "source": [
    "#Number of Unique Items\n",
    "unique_items = purchase_df[\"Item Name\"].unique()"
   ]
  },
  {
   "cell_type": "code",
   "execution_count": 491,
   "metadata": {},
   "outputs": [],
   "source": [
    "#Average Purchase Price\n",
    "average_price = purchase_df['Price'].mean()"
   ]
  },
  {
   "cell_type": "code",
   "execution_count": 492,
   "metadata": {},
   "outputs": [
    {
     "output_type": "execute_result",
     "data": {
      "text/plain": [
       "3.050987179487176"
      ]
     },
     "metadata": {},
     "execution_count": 492
    }
   ],
   "source": [
    "average_price"
   ]
  },
  {
   "cell_type": "code",
   "execution_count": 493,
   "metadata": {},
   "outputs": [],
   "source": [
    "#Total Number of Purchases\n",
    "total_purchases = purchase_df['Purchase ID'].unique()\n",
    "total_purchases = len(total_purchases)"
   ]
  },
  {
   "cell_type": "code",
   "execution_count": 494,
   "metadata": {},
   "outputs": [],
   "source": [
    "#Total Revenue\n",
    "total_revenue = purchase_df['Price'].sum()"
   ]
  },
  {
   "cell_type": "code",
   "execution_count": 495,
   "metadata": {},
   "outputs": [
    {
     "output_type": "execute_result",
     "data": {
      "text/plain": [
       "2379.77"
      ]
     },
     "metadata": {},
     "execution_count": 495
    }
   ],
   "source": [
    "total_revenue"
   ]
  },
  {
   "cell_type": "code",
   "execution_count": 496,
   "metadata": {},
   "outputs": [],
   "source": [
    "unique_items = purchase_df[\"Item Name\"].unique()"
   ]
  },
  {
   "cell_type": "code",
   "execution_count": 497,
   "metadata": {},
   "outputs": [],
   "source": [
    "unique_items = len(unique_items)"
   ]
  },
  {
   "cell_type": "code",
   "execution_count": 498,
   "metadata": {},
   "outputs": [],
   "source": [
    "#Make a summary Table Dummby!"
   ]
  },
  {
   "cell_type": "code",
   "execution_count": 499,
   "metadata": {},
   "outputs": [],
   "source": [
    "purchasing_df = pd.DataFrame({\"Number of Unique Items\": unique_items, \"Average Price\": average_price, \"Number of Purchases\": total_purchases,\"Total Revenue\": total_revenue}, index=[0])"
   ]
  },
  {
   "cell_type": "code",
   "execution_count": 500,
   "metadata": {},
   "outputs": [
    {
     "output_type": "execute_result",
     "data": {
      "text/plain": [
       "   Number of Unique Items  Average Price  Number of Purchases  Total Revenue\n",
       "0                     179       3.050987                  780        2379.77"
      ],
      "text/html": "<div>\n<style scoped>\n    .dataframe tbody tr th:only-of-type {\n        vertical-align: middle;\n    }\n\n    .dataframe tbody tr th {\n        vertical-align: top;\n    }\n\n    .dataframe thead th {\n        text-align: right;\n    }\n</style>\n<table border=\"1\" class=\"dataframe\">\n  <thead>\n    <tr style=\"text-align: right;\">\n      <th></th>\n      <th>Number of Unique Items</th>\n      <th>Average Price</th>\n      <th>Number of Purchases</th>\n      <th>Total Revenue</th>\n    </tr>\n  </thead>\n  <tbody>\n    <tr>\n      <th>0</th>\n      <td>179</td>\n      <td>3.050987</td>\n      <td>780</td>\n      <td>2379.77</td>\n    </tr>\n  </tbody>\n</table>\n</div>"
     },
     "metadata": {},
     "execution_count": 500
    }
   ],
   "source": [
    "purchasing_df"
   ]
  },
  {
   "cell_type": "code",
   "execution_count": 501,
   "metadata": {},
   "outputs": [],
   "source": [
    "gendered_players = pd.DataFrame(purchase_df, columns=[\n",
    "                        \"Gender\", \"SN\"])"
   ]
  },
  {
   "cell_type": "code",
   "execution_count": 502,
   "metadata": {},
   "outputs": [],
   "source": [
    "\n",
    "merge_df = pd.merge(clean_total_players, gendered_players, on=\"SN\", how=\"left\")"
   ]
  },
  {
   "cell_type": "code",
   "execution_count": 503,
   "metadata": {},
   "outputs": [
    {
     "output_type": "execute_result",
     "data": {
      "text/plain": [
       "              SN  Gender\n",
       "0        Lisim78    Male\n",
       "1        Lisim78    Male\n",
       "2        Lisim78    Male\n",
       "3    Lisovynya38    Male\n",
       "4     Ithergue48    Male\n",
       "..           ...     ...\n",
       "775       Hala31    Male\n",
       "776   Jiskjask80    Male\n",
       "777   Aethedru70  Female\n",
       "778   Yathecal72    Male\n",
       "779      Sisur91    Male\n",
       "\n",
       "[780 rows x 2 columns]"
      ],
      "text/html": "<div>\n<style scoped>\n    .dataframe tbody tr th:only-of-type {\n        vertical-align: middle;\n    }\n\n    .dataframe tbody tr th {\n        vertical-align: top;\n    }\n\n    .dataframe thead th {\n        text-align: right;\n    }\n</style>\n<table border=\"1\" class=\"dataframe\">\n  <thead>\n    <tr style=\"text-align: right;\">\n      <th></th>\n      <th>SN</th>\n      <th>Gender</th>\n    </tr>\n  </thead>\n  <tbody>\n    <tr>\n      <th>0</th>\n      <td>Lisim78</td>\n      <td>Male</td>\n    </tr>\n    <tr>\n      <th>1</th>\n      <td>Lisim78</td>\n      <td>Male</td>\n    </tr>\n    <tr>\n      <th>2</th>\n      <td>Lisim78</td>\n      <td>Male</td>\n    </tr>\n    <tr>\n      <th>3</th>\n      <td>Lisovynya38</td>\n      <td>Male</td>\n    </tr>\n    <tr>\n      <th>4</th>\n      <td>Ithergue48</td>\n      <td>Male</td>\n    </tr>\n    <tr>\n      <th>...</th>\n      <td>...</td>\n      <td>...</td>\n    </tr>\n    <tr>\n      <th>775</th>\n      <td>Hala31</td>\n      <td>Male</td>\n    </tr>\n    <tr>\n      <th>776</th>\n      <td>Jiskjask80</td>\n      <td>Male</td>\n    </tr>\n    <tr>\n      <th>777</th>\n      <td>Aethedru70</td>\n      <td>Female</td>\n    </tr>\n    <tr>\n      <th>778</th>\n      <td>Yathecal72</td>\n      <td>Male</td>\n    </tr>\n    <tr>\n      <th>779</th>\n      <td>Sisur91</td>\n      <td>Male</td>\n    </tr>\n  </tbody>\n</table>\n<p>780 rows × 2 columns</p>\n</div>"
     },
     "metadata": {},
     "execution_count": 503
    }
   ],
   "source": [
    "merge_df"
   ]
  },
  {
   "cell_type": "code",
   "execution_count": 504,
   "metadata": {},
   "outputs": [],
   "source": [
    "clean_merge_df = merge_df.drop_duplicates()"
   ]
  },
  {
   "cell_type": "code",
   "execution_count": 505,
   "metadata": {},
   "outputs": [
    {
     "output_type": "execute_result",
     "data": {
      "text/plain": [
       "                SN  Gender\n",
       "0          Lisim78    Male\n",
       "3      Lisovynya38    Male\n",
       "4       Ithergue48    Male\n",
       "5    Chamassasya86    Male\n",
       "6        Iskosia90    Male\n",
       "..             ...     ...\n",
       "775         Hala31    Male\n",
       "776     Jiskjask80    Male\n",
       "777     Aethedru70  Female\n",
       "778     Yathecal72    Male\n",
       "779        Sisur91    Male\n",
       "\n",
       "[576 rows x 2 columns]"
      ],
      "text/html": "<div>\n<style scoped>\n    .dataframe tbody tr th:only-of-type {\n        vertical-align: middle;\n    }\n\n    .dataframe tbody tr th {\n        vertical-align: top;\n    }\n\n    .dataframe thead th {\n        text-align: right;\n    }\n</style>\n<table border=\"1\" class=\"dataframe\">\n  <thead>\n    <tr style=\"text-align: right;\">\n      <th></th>\n      <th>SN</th>\n      <th>Gender</th>\n    </tr>\n  </thead>\n  <tbody>\n    <tr>\n      <th>0</th>\n      <td>Lisim78</td>\n      <td>Male</td>\n    </tr>\n    <tr>\n      <th>3</th>\n      <td>Lisovynya38</td>\n      <td>Male</td>\n    </tr>\n    <tr>\n      <th>4</th>\n      <td>Ithergue48</td>\n      <td>Male</td>\n    </tr>\n    <tr>\n      <th>5</th>\n      <td>Chamassasya86</td>\n      <td>Male</td>\n    </tr>\n    <tr>\n      <th>6</th>\n      <td>Iskosia90</td>\n      <td>Male</td>\n    </tr>\n    <tr>\n      <th>...</th>\n      <td>...</td>\n      <td>...</td>\n    </tr>\n    <tr>\n      <th>775</th>\n      <td>Hala31</td>\n      <td>Male</td>\n    </tr>\n    <tr>\n      <th>776</th>\n      <td>Jiskjask80</td>\n      <td>Male</td>\n    </tr>\n    <tr>\n      <th>777</th>\n      <td>Aethedru70</td>\n      <td>Female</td>\n    </tr>\n    <tr>\n      <th>778</th>\n      <td>Yathecal72</td>\n      <td>Male</td>\n    </tr>\n    <tr>\n      <th>779</th>\n      <td>Sisur91</td>\n      <td>Male</td>\n    </tr>\n  </tbody>\n</table>\n<p>576 rows × 2 columns</p>\n</div>"
     },
     "metadata": {},
     "execution_count": 505
    }
   ],
   "source": [
    "clean_merge_df"
   ]
  },
  {
   "cell_type": "code",
   "execution_count": 506,
   "metadata": {},
   "outputs": [],
   "source": [
    "gender_demo_df = clean_merge_df[\"Gender\"].value_counts()"
   ]
  },
  {
   "cell_type": "code",
   "execution_count": 507,
   "metadata": {},
   "outputs": [],
   "source": [
    "gender_percent_df = gender_demo_df/total_players2"
   ]
  },
  {
   "cell_type": "code",
   "execution_count": 508,
   "metadata": {},
   "outputs": [
    {
     "output_type": "execute_result",
     "data": {
      "text/plain": [
       "Male                     0.840278\n",
       "Female                   0.140625\n",
       "Other / Non-Disclosed    0.019097\n",
       "Name: Gender, dtype: float64"
      ]
     },
     "metadata": {},
     "execution_count": 508
    }
   ],
   "source": [
    "gender_percent_df"
   ]
  },
  {
   "cell_type": "code",
   "execution_count": 509,
   "metadata": {},
   "outputs": [],
   "source": [
    "gender_demo_final = pd.DataFrame({\"Total Count\": gender_demo_df, \"Percentage of Players\": gender_percent_df})"
   ]
  },
  {
   "cell_type": "code",
   "execution_count": 510,
   "metadata": {},
   "outputs": [],
   "source": [
    "gender_demo_final[\"Percentage of Players\"] = gender_demo_final[\"Percentage of Players\"].map(\"{:,.2%}\".format)"
   ]
  },
  {
   "cell_type": "code",
   "execution_count": 511,
   "metadata": {},
   "outputs": [
    {
     "output_type": "execute_result",
     "data": {
      "text/plain": [
       "                       Total Count Percentage of Players\n",
       "Male                           484                84.03%\n",
       "Female                          81                14.06%\n",
       "Other / Non-Disclosed           11                 1.91%"
      ],
      "text/html": "<div>\n<style scoped>\n    .dataframe tbody tr th:only-of-type {\n        vertical-align: middle;\n    }\n\n    .dataframe tbody tr th {\n        vertical-align: top;\n    }\n\n    .dataframe thead th {\n        text-align: right;\n    }\n</style>\n<table border=\"1\" class=\"dataframe\">\n  <thead>\n    <tr style=\"text-align: right;\">\n      <th></th>\n      <th>Total Count</th>\n      <th>Percentage of Players</th>\n    </tr>\n  </thead>\n  <tbody>\n    <tr>\n      <th>Male</th>\n      <td>484</td>\n      <td>84.03%</td>\n    </tr>\n    <tr>\n      <th>Female</th>\n      <td>81</td>\n      <td>14.06%</td>\n    </tr>\n    <tr>\n      <th>Other / Non-Disclosed</th>\n      <td>11</td>\n      <td>1.91%</td>\n    </tr>\n  </tbody>\n</table>\n</div>"
     },
     "metadata": {},
     "execution_count": 511
    }
   ],
   "source": [
    "gender_demo_final"
   ]
  },
  {
   "cell_type": "code",
   "execution_count": 512,
   "metadata": {},
   "outputs": [],
   "source": [
    "#Make a summary Table you Dummby!"
   ]
  },
  {
   "cell_type": "code",
   "execution_count": null,
   "metadata": {},
   "outputs": [],
   "source": []
  },
  {
   "cell_type": "code",
   "execution_count": 513,
   "metadata": {},
   "outputs": [],
   "source": [
    "#Purchase Count, Average Purcahse Price, Total Purchase Value, and Average Purchase Total Per Person\n",
    "#Break Each value down by gender\n",
    "by_person_df = purchase_df.groupby(\"Gender\")"
   ]
  },
  {
   "cell_type": "code",
   "execution_count": 514,
   "metadata": {},
   "outputs": [],
   "source": [
    "pur_count = by_person_df['Price']"
   ]
  },
  {
   "cell_type": "code",
   "execution_count": 515,
   "metadata": {},
   "outputs": [
    {
     "output_type": "execute_result",
     "data": {
      "text/plain": [
       "<pandas.core.groupby.generic.SeriesGroupBy object at 0x000001BCB4B33D90>"
      ]
     },
     "metadata": {},
     "execution_count": 515
    }
   ],
   "source": [
    "pur_count\n"
   ]
  },
  {
   "cell_type": "code",
   "execution_count": 516,
   "metadata": {},
   "outputs": [],
   "source": [
    "pur_count = pur_count.count()"
   ]
  },
  {
   "cell_type": "code",
   "execution_count": 517,
   "metadata": {},
   "outputs": [
    {
     "output_type": "execute_result",
     "data": {
      "text/plain": [
       "Gender\n",
       "Female                   113\n",
       "Male                     652\n",
       "Other / Non-Disclosed     15\n",
       "Name: Price, dtype: int64"
      ]
     },
     "metadata": {},
     "execution_count": 517
    }
   ],
   "source": [
    "pur_count"
   ]
  },
  {
   "cell_type": "code",
   "execution_count": 518,
   "metadata": {},
   "outputs": [
    {
     "output_type": "stream",
     "name": "stderr",
     "text": [
      "<ipython-input-518-51d0b62b4cc8>:1: FutureWarning: Indexing with multiple keys (implicitly converted to a tuple of keys) will be deprecated, use a list instead.\n  tot_per = by_person_df['Gender', 'SN', 'Price']\n"
     ]
    }
   ],
   "source": [
    "tot_per = by_person_df['Gender', 'SN', 'Price']"
   ]
  },
  {
   "cell_type": "code",
   "execution_count": 519,
   "metadata": {},
   "outputs": [],
   "source": [
    "tot_per = tot_per.sum()"
   ]
  },
  {
   "source": [
    "tot_per"
   ],
   "cell_type": "code",
   "metadata": {},
   "execution_count": 520,
   "outputs": [
    {
     "output_type": "execute_result",
     "data": {
      "text/plain": [
       "                         Price\n",
       "Gender                        \n",
       "Female                  361.94\n",
       "Male                   1967.64\n",
       "Other / Non-Disclosed    50.19"
      ],
      "text/html": "<div>\n<style scoped>\n    .dataframe tbody tr th:only-of-type {\n        vertical-align: middle;\n    }\n\n    .dataframe tbody tr th {\n        vertical-align: top;\n    }\n\n    .dataframe thead th {\n        text-align: right;\n    }\n</style>\n<table border=\"1\" class=\"dataframe\">\n  <thead>\n    <tr style=\"text-align: right;\">\n      <th></th>\n      <th>Price</th>\n    </tr>\n    <tr>\n      <th>Gender</th>\n      <th></th>\n    </tr>\n  </thead>\n  <tbody>\n    <tr>\n      <th>Female</th>\n      <td>361.94</td>\n    </tr>\n    <tr>\n      <th>Male</th>\n      <td>1967.64</td>\n    </tr>\n    <tr>\n      <th>Other / Non-Disclosed</th>\n      <td>50.19</td>\n    </tr>\n  </tbody>\n</table>\n</div>"
     },
     "metadata": {},
     "execution_count": 520
    }
   ]
  },
  {
   "cell_type": "code",
   "execution_count": 521,
   "metadata": {},
   "outputs": [],
   "source": [
    "avg_tot_per = by_person_df[\"Price\"].sum() "
   ]
  },
  {
   "cell_type": "code",
   "execution_count": 521,
   "metadata": {},
   "outputs": [],
   "source": [
    "\n"
   ]
  },
  {
   "cell_type": "code",
   "execution_count": 522,
   "metadata": {},
   "outputs": [
    {
     "output_type": "execute_result",
     "data": {
      "text/plain": [
       "Gender\n",
       "Female                    361.94\n",
       "Male                     1967.64\n",
       "Other / Non-Disclosed      50.19\n",
       "Name: Price, dtype: float64"
      ]
     },
     "metadata": {},
     "execution_count": 522
    }
   ],
   "source": [
    "avg_tot_per"
   ]
  },
  {
   "cell_type": "code",
   "execution_count": 523,
   "metadata": {},
   "outputs": [
    {
     "output_type": "stream",
     "name": "stderr",
     "text": [
      "<ipython-input-523-f32ea52ae4a7>:1: FutureWarning: Indexing with multiple keys (implicitly converted to a tuple of keys) will be deprecated, use a list instead.\n  avg_pur_price = by_person_df['Gender', 'Price']\n"
     ]
    }
   ],
   "source": [
    "avg_pur_price = by_person_df['Gender', 'Price']"
   ]
  },
  {
   "cell_type": "code",
   "execution_count": 524,
   "metadata": {},
   "outputs": [
    {
     "output_type": "execute_result",
     "data": {
      "text/plain": [
       "                          Price\n",
       "Gender                         \n",
       "Female                 3.203009\n",
       "Male                   3.017853\n",
       "Other / Non-Disclosed  3.346000"
      ],
      "text/html": "<div>\n<style scoped>\n    .dataframe tbody tr th:only-of-type {\n        vertical-align: middle;\n    }\n\n    .dataframe tbody tr th {\n        vertical-align: top;\n    }\n\n    .dataframe thead th {\n        text-align: right;\n    }\n</style>\n<table border=\"1\" class=\"dataframe\">\n  <thead>\n    <tr style=\"text-align: right;\">\n      <th></th>\n      <th>Price</th>\n    </tr>\n    <tr>\n      <th>Gender</th>\n      <th></th>\n    </tr>\n  </thead>\n  <tbody>\n    <tr>\n      <th>Female</th>\n      <td>3.203009</td>\n    </tr>\n    <tr>\n      <th>Male</th>\n      <td>3.017853</td>\n    </tr>\n    <tr>\n      <th>Other / Non-Disclosed</th>\n      <td>3.346000</td>\n    </tr>\n  </tbody>\n</table>\n</div>"
     },
     "metadata": {},
     "execution_count": 524
    }
   ],
   "source": [
    "avg_pur_price.mean()"
   ]
  },
  {
   "cell_type": "code",
   "execution_count": 525,
   "metadata": {},
   "outputs": [],
   "source": [
    "#Make a Summary Table you Dummby!\n",
    "by_person_df =  by_person_df['Price'].agg({'mean', 'sum', 'count',})"
   ]
  },
  {
   "cell_type": "code",
   "execution_count": 526,
   "metadata": {},
   "outputs": [],
   "source": [
    "by_person_df.columns=['Purchase Count', 'Total Purchase Value', 'Average Purchase Price']"
   ]
  },
  {
   "cell_type": "code",
   "execution_count": 527,
   "metadata": {},
   "outputs": [],
   "source": [
    "by_person_df = pd.DataFrame(by_person_df)"
   ]
  },
  {
   "cell_type": "code",
   "execution_count": 528,
   "metadata": {},
   "outputs": [],
   "source": [
    "by_person_df[\"Average Purchase Total Per Person\"] = (avg_tot_per / clean_merge_df[\"Gender\"].value_counts())"
   ]
  },
  {
   "cell_type": "code",
   "execution_count": 478,
   "metadata": {},
   "outputs": [],
   "source": []
  },
  {
   "cell_type": "code",
   "execution_count": null,
   "metadata": {},
   "outputs": [],
   "source": []
  },
  {
   "cell_type": "code",
   "execution_count": 529,
   "metadata": {},
   "outputs": [
    {
     "output_type": "execute_result",
     "data": {
      "text/plain": [
       "                       Purchase Count  Total Purchase Value  \\\n",
       "Gender                                                        \n",
       "Female                            113                361.94   \n",
       "Male                              652               1967.64   \n",
       "Other / Non-Disclosed              15                 50.19   \n",
       "\n",
       "                       Average Purchase Price  \\\n",
       "Gender                                          \n",
       "Female                               3.203009   \n",
       "Male                                 3.017853   \n",
       "Other / Non-Disclosed                3.346000   \n",
       "\n",
       "                       Average Purchase Total Per Person  \n",
       "Gender                                                    \n",
       "Female                                          4.468395  \n",
       "Male                                            4.065372  \n",
       "Other / Non-Disclosed                           4.562727  "
      ],
      "text/html": "<div>\n<style scoped>\n    .dataframe tbody tr th:only-of-type {\n        vertical-align: middle;\n    }\n\n    .dataframe tbody tr th {\n        vertical-align: top;\n    }\n\n    .dataframe thead th {\n        text-align: right;\n    }\n</style>\n<table border=\"1\" class=\"dataframe\">\n  <thead>\n    <tr style=\"text-align: right;\">\n      <th></th>\n      <th>Purchase Count</th>\n      <th>Total Purchase Value</th>\n      <th>Average Purchase Price</th>\n      <th>Average Purchase Total Per Person</th>\n    </tr>\n    <tr>\n      <th>Gender</th>\n      <th></th>\n      <th></th>\n      <th></th>\n      <th></th>\n    </tr>\n  </thead>\n  <tbody>\n    <tr>\n      <th>Female</th>\n      <td>113</td>\n      <td>361.94</td>\n      <td>3.203009</td>\n      <td>4.468395</td>\n    </tr>\n    <tr>\n      <th>Male</th>\n      <td>652</td>\n      <td>1967.64</td>\n      <td>3.017853</td>\n      <td>4.065372</td>\n    </tr>\n    <tr>\n      <th>Other / Non-Disclosed</th>\n      <td>15</td>\n      <td>50.19</td>\n      <td>3.346000</td>\n      <td>4.562727</td>\n    </tr>\n  </tbody>\n</table>\n</div>"
     },
     "metadata": {},
     "execution_count": 529
    }
   ],
   "source": [
    "by_person_df"
   ]
  },
  {
   "cell_type": "code",
   "execution_count": 530,
   "metadata": {},
   "outputs": [],
   "source": [
    "bins = [0, 9, 14, 19, 24, 29, 34, 39, 100]\n",
    "group_names = ['<10', '10-14', '15-19', '20-24', '25-29', '30-34', '35-39', '40+']"
   ]
  },
  {
   "cell_type": "code",
   "execution_count": 388,
   "metadata": {},
   "outputs": [
    {
     "output_type": "execute_result",
     "data": {
      "text/plain": [
       "Purchase ID    576\n",
       "SN             576\n",
       "Age            576\n",
       "Gender         576\n",
       "Item ID        576\n",
       "Item Name      576\n",
       "Price          576\n",
       "dtype: int64"
      ]
     },
     "metadata": {},
     "execution_count": 388
    }
   ],
   "source": []
  },
  {
   "cell_type": "code",
   "execution_count": 531,
   "metadata": {},
   "outputs": [
    {
     "output_type": "stream",
     "name": "stderr",
     "text": [
      "<ipython-input-531-b7cd9d331da9>:2: SettingWithCopyWarning: \nA value is trying to be set on a copy of a slice from a DataFrame.\nTry using .loc[row_indexer,col_indexer] = value instead\n\nSee the caveats in the documentation: https://pandas.pydata.org/pandas-docs/stable/user_guide/indexing.html#returning-a-view-versus-a-copy\n  clean_df['Ages'] = pd.cut(clean_df['Age'], bins,labels=group_names, include_lowest=False)\n"
     ]
    }
   ],
   "source": [
    "#Break Values Down into bins of 4 year\n",
    "clean_df['Ages'] = pd.cut(clean_df['Age'], bins,labels=group_names, include_lowest=False)"
   ]
  },
  {
   "cell_type": "code",
   "execution_count": 532,
   "metadata": {},
   "outputs": [
    {
     "output_type": "execute_result",
     "data": {
      "text/plain": [
       "     Purchase ID             SN  Age  Gender  Item ID  \\\n",
       "0              0        Lisim78   20    Male      108   \n",
       "1              1    Lisovynya38   40    Male      143   \n",
       "2              2     Ithergue48   24    Male       92   \n",
       "3              3  Chamassasya86   24    Male      100   \n",
       "4              4      Iskosia90   23    Male      131   \n",
       "..           ...            ...  ...     ...      ...   \n",
       "773          773         Hala31   21    Male       19   \n",
       "774          774     Jiskjask80   11    Male       92   \n",
       "775          775     Aethedru70   21  Female       60   \n",
       "777          777     Yathecal72   20    Male       67   \n",
       "778          778        Sisur91    7    Male       92   \n",
       "\n",
       "                                     Item Name  Price   Ages  \n",
       "0    Extraction, Quickblade Of Trembling Hands   3.53  20-24  \n",
       "1                            Frenzied Scimitar   1.56    40+  \n",
       "2                                 Final Critic   4.88  20-24  \n",
       "3                                  Blindscythe   3.27  20-24  \n",
       "4                                         Fury   1.44  20-24  \n",
       "..                                         ...    ...    ...  \n",
       "773              Pursuit, Cudgel of Necromancy   1.02  20-24  \n",
       "774                               Final Critic   4.19  10-14  \n",
       "775                                       Wolf   3.54  20-24  \n",
       "777      Celeste, Incarnation of the Corrupted   3.46  20-24  \n",
       "778                               Final Critic   4.19    <10  \n",
       "\n",
       "[576 rows x 8 columns]"
      ],
      "text/html": "<div>\n<style scoped>\n    .dataframe tbody tr th:only-of-type {\n        vertical-align: middle;\n    }\n\n    .dataframe tbody tr th {\n        vertical-align: top;\n    }\n\n    .dataframe thead th {\n        text-align: right;\n    }\n</style>\n<table border=\"1\" class=\"dataframe\">\n  <thead>\n    <tr style=\"text-align: right;\">\n      <th></th>\n      <th>Purchase ID</th>\n      <th>SN</th>\n      <th>Age</th>\n      <th>Gender</th>\n      <th>Item ID</th>\n      <th>Item Name</th>\n      <th>Price</th>\n      <th>Ages</th>\n    </tr>\n  </thead>\n  <tbody>\n    <tr>\n      <th>0</th>\n      <td>0</td>\n      <td>Lisim78</td>\n      <td>20</td>\n      <td>Male</td>\n      <td>108</td>\n      <td>Extraction, Quickblade Of Trembling Hands</td>\n      <td>3.53</td>\n      <td>20-24</td>\n    </tr>\n    <tr>\n      <th>1</th>\n      <td>1</td>\n      <td>Lisovynya38</td>\n      <td>40</td>\n      <td>Male</td>\n      <td>143</td>\n      <td>Frenzied Scimitar</td>\n      <td>1.56</td>\n      <td>40+</td>\n    </tr>\n    <tr>\n      <th>2</th>\n      <td>2</td>\n      <td>Ithergue48</td>\n      <td>24</td>\n      <td>Male</td>\n      <td>92</td>\n      <td>Final Critic</td>\n      <td>4.88</td>\n      <td>20-24</td>\n    </tr>\n    <tr>\n      <th>3</th>\n      <td>3</td>\n      <td>Chamassasya86</td>\n      <td>24</td>\n      <td>Male</td>\n      <td>100</td>\n      <td>Blindscythe</td>\n      <td>3.27</td>\n      <td>20-24</td>\n    </tr>\n    <tr>\n      <th>4</th>\n      <td>4</td>\n      <td>Iskosia90</td>\n      <td>23</td>\n      <td>Male</td>\n      <td>131</td>\n      <td>Fury</td>\n      <td>1.44</td>\n      <td>20-24</td>\n    </tr>\n    <tr>\n      <th>...</th>\n      <td>...</td>\n      <td>...</td>\n      <td>...</td>\n      <td>...</td>\n      <td>...</td>\n      <td>...</td>\n      <td>...</td>\n      <td>...</td>\n    </tr>\n    <tr>\n      <th>773</th>\n      <td>773</td>\n      <td>Hala31</td>\n      <td>21</td>\n      <td>Male</td>\n      <td>19</td>\n      <td>Pursuit, Cudgel of Necromancy</td>\n      <td>1.02</td>\n      <td>20-24</td>\n    </tr>\n    <tr>\n      <th>774</th>\n      <td>774</td>\n      <td>Jiskjask80</td>\n      <td>11</td>\n      <td>Male</td>\n      <td>92</td>\n      <td>Final Critic</td>\n      <td>4.19</td>\n      <td>10-14</td>\n    </tr>\n    <tr>\n      <th>775</th>\n      <td>775</td>\n      <td>Aethedru70</td>\n      <td>21</td>\n      <td>Female</td>\n      <td>60</td>\n      <td>Wolf</td>\n      <td>3.54</td>\n      <td>20-24</td>\n    </tr>\n    <tr>\n      <th>777</th>\n      <td>777</td>\n      <td>Yathecal72</td>\n      <td>20</td>\n      <td>Male</td>\n      <td>67</td>\n      <td>Celeste, Incarnation of the Corrupted</td>\n      <td>3.46</td>\n      <td>20-24</td>\n    </tr>\n    <tr>\n      <th>778</th>\n      <td>778</td>\n      <td>Sisur91</td>\n      <td>7</td>\n      <td>Male</td>\n      <td>92</td>\n      <td>Final Critic</td>\n      <td>4.19</td>\n      <td>&lt;10</td>\n    </tr>\n  </tbody>\n</table>\n<p>576 rows × 8 columns</p>\n</div>"
     },
     "metadata": {},
     "execution_count": 532
    }
   ],
   "source": [
    "clean_df"
   ]
  },
  {
   "cell_type": "code",
   "execution_count": 533,
   "metadata": {},
   "outputs": [],
   "source": [
    "age_group_df = clean_df.groupby('Ages').count()"
   ]
  },
  {
   "cell_type": "code",
   "execution_count": 534,
   "metadata": {},
   "outputs": [],
   "source": [
    "age_group_df = pd.DataFrame(age_group_df)"
   ]
  },
  {
   "cell_type": "code",
   "execution_count": 535,
   "metadata": {},
   "outputs": [
    {
     "output_type": "execute_result",
     "data": {
      "text/plain": [
       "       Purchase ID   SN  Age  Gender  Item ID  Item Name  Price\n",
       "Ages                                                           \n",
       "<10             17   17   17      17       17         17     17\n",
       "10-14           22   22   22      22       22         22     22\n",
       "15-19          107  107  107     107      107        107    107\n",
       "20-24          258  258  258     258      258        258    258\n",
       "25-29           77   77   77      77       77         77     77\n",
       "30-34           52   52   52      52       52         52     52\n",
       "35-39           31   31   31      31       31         31     31\n",
       "40+             12   12   12      12       12         12     12"
      ],
      "text/html": "<div>\n<style scoped>\n    .dataframe tbody tr th:only-of-type {\n        vertical-align: middle;\n    }\n\n    .dataframe tbody tr th {\n        vertical-align: top;\n    }\n\n    .dataframe thead th {\n        text-align: right;\n    }\n</style>\n<table border=\"1\" class=\"dataframe\">\n  <thead>\n    <tr style=\"text-align: right;\">\n      <th></th>\n      <th>Purchase ID</th>\n      <th>SN</th>\n      <th>Age</th>\n      <th>Gender</th>\n      <th>Item ID</th>\n      <th>Item Name</th>\n      <th>Price</th>\n    </tr>\n    <tr>\n      <th>Ages</th>\n      <th></th>\n      <th></th>\n      <th></th>\n      <th></th>\n      <th></th>\n      <th></th>\n      <th></th>\n    </tr>\n  </thead>\n  <tbody>\n    <tr>\n      <th>&lt;10</th>\n      <td>17</td>\n      <td>17</td>\n      <td>17</td>\n      <td>17</td>\n      <td>17</td>\n      <td>17</td>\n      <td>17</td>\n    </tr>\n    <tr>\n      <th>10-14</th>\n      <td>22</td>\n      <td>22</td>\n      <td>22</td>\n      <td>22</td>\n      <td>22</td>\n      <td>22</td>\n      <td>22</td>\n    </tr>\n    <tr>\n      <th>15-19</th>\n      <td>107</td>\n      <td>107</td>\n      <td>107</td>\n      <td>107</td>\n      <td>107</td>\n      <td>107</td>\n      <td>107</td>\n    </tr>\n    <tr>\n      <th>20-24</th>\n      <td>258</td>\n      <td>258</td>\n      <td>258</td>\n      <td>258</td>\n      <td>258</td>\n      <td>258</td>\n      <td>258</td>\n    </tr>\n    <tr>\n      <th>25-29</th>\n      <td>77</td>\n      <td>77</td>\n      <td>77</td>\n      <td>77</td>\n      <td>77</td>\n      <td>77</td>\n      <td>77</td>\n    </tr>\n    <tr>\n      <th>30-34</th>\n      <td>52</td>\n      <td>52</td>\n      <td>52</td>\n      <td>52</td>\n      <td>52</td>\n      <td>52</td>\n      <td>52</td>\n    </tr>\n    <tr>\n      <th>35-39</th>\n      <td>31</td>\n      <td>31</td>\n      <td>31</td>\n      <td>31</td>\n      <td>31</td>\n      <td>31</td>\n      <td>31</td>\n    </tr>\n    <tr>\n      <th>40+</th>\n      <td>12</td>\n      <td>12</td>\n      <td>12</td>\n      <td>12</td>\n      <td>12</td>\n      <td>12</td>\n      <td>12</td>\n    </tr>\n  </tbody>\n</table>\n</div>"
     },
     "metadata": {},
     "execution_count": 535
    }
   ],
   "source": [
    "age_group_df"
   ]
  },
  {
   "cell_type": "code",
   "execution_count": 536,
   "metadata": {},
   "outputs": [],
   "source": [
    "age_group_df = age_group_df.rename(columns={'SN': 'Total Players'})"
   ]
  },
  {
   "cell_type": "code",
   "execution_count": 537,
   "metadata": {},
   "outputs": [],
   "source": [
    "age_group_df2 = age_group_df.drop(columns=[\"Gender\", 'Purchase ID', 'Item ID', 'Item Name', 'Price', 'Age'])"
   ]
  },
  {
   "cell_type": "code",
   "execution_count": 538,
   "metadata": {},
   "outputs": [],
   "source": [
    "age_group_df2['Percentage of Players'] = (age_group_df2['Total Players']/576)\n"
   ]
  },
  {
   "cell_type": "code",
   "execution_count": 539,
   "metadata": {},
   "outputs": [
    {
     "output_type": "execute_result",
     "data": {
      "text/plain": [
       "       Total Players  Percentage of Players\n",
       "Ages                                       \n",
       "<10               17               0.029514\n",
       "10-14             22               0.038194\n",
       "15-19            107               0.185764\n",
       "20-24            258               0.447917\n",
       "25-29             77               0.133681\n",
       "30-34             52               0.090278\n",
       "35-39             31               0.053819\n",
       "40+               12               0.020833"
      ],
      "text/html": "<div>\n<style scoped>\n    .dataframe tbody tr th:only-of-type {\n        vertical-align: middle;\n    }\n\n    .dataframe tbody tr th {\n        vertical-align: top;\n    }\n\n    .dataframe thead th {\n        text-align: right;\n    }\n</style>\n<table border=\"1\" class=\"dataframe\">\n  <thead>\n    <tr style=\"text-align: right;\">\n      <th></th>\n      <th>Total Players</th>\n      <th>Percentage of Players</th>\n    </tr>\n    <tr>\n      <th>Ages</th>\n      <th></th>\n      <th></th>\n    </tr>\n  </thead>\n  <tbody>\n    <tr>\n      <th>&lt;10</th>\n      <td>17</td>\n      <td>0.029514</td>\n    </tr>\n    <tr>\n      <th>10-14</th>\n      <td>22</td>\n      <td>0.038194</td>\n    </tr>\n    <tr>\n      <th>15-19</th>\n      <td>107</td>\n      <td>0.185764</td>\n    </tr>\n    <tr>\n      <th>20-24</th>\n      <td>258</td>\n      <td>0.447917</td>\n    </tr>\n    <tr>\n      <th>25-29</th>\n      <td>77</td>\n      <td>0.133681</td>\n    </tr>\n    <tr>\n      <th>30-34</th>\n      <td>52</td>\n      <td>0.090278</td>\n    </tr>\n    <tr>\n      <th>35-39</th>\n      <td>31</td>\n      <td>0.053819</td>\n    </tr>\n    <tr>\n      <th>40+</th>\n      <td>12</td>\n      <td>0.020833</td>\n    </tr>\n  </tbody>\n</table>\n</div>"
     },
     "metadata": {},
     "execution_count": 539
    }
   ],
   "source": [
    "age_group_df2"
   ]
  },
  {
   "cell_type": "code",
   "execution_count": 540,
   "metadata": {},
   "outputs": [],
   "source": [
    "purchase_df['Ages'] = pd.cut(purchase_df['Age'], bins,labels=group_names, include_lowest=False)"
   ]
  },
  {
   "cell_type": "code",
   "execution_count": 541,
   "metadata": {},
   "outputs": [],
   "source": [
    "age_sum_df = purchase_df.groupby(['Ages']).sum()['Price']\n"
   ]
  },
  {
   "cell_type": "code",
   "execution_count": 542,
   "metadata": {},
   "outputs": [
    {
     "output_type": "execute_result",
     "data": {
      "text/plain": [
       "Ages\n",
       "<10        77.13\n",
       "10-14      82.78\n",
       "15-19     412.89\n",
       "20-24    1114.06\n",
       "25-29     293.00\n",
       "30-34     214.00\n",
       "35-39     147.67\n",
       "40+        38.24\n",
       "Name: Price, dtype: float64"
      ]
     },
     "metadata": {},
     "execution_count": 542
    }
   ],
   "source": [
    "age_sum_df"
   ]
  },
  {
   "cell_type": "code",
   "execution_count": 543,
   "metadata": {},
   "outputs": [],
   "source": [
    "age_mean_df = purchase_df.groupby(['Ages']).mean()['Price']"
   ]
  },
  {
   "cell_type": "code",
   "execution_count": 544,
   "metadata": {},
   "outputs": [
    {
     "output_type": "execute_result",
     "data": {
      "text/plain": [
       "Ages\n",
       "<10      3.353478\n",
       "10-14    2.956429\n",
       "15-19    3.035956\n",
       "20-24    3.052219\n",
       "25-29    2.900990\n",
       "30-34    2.931507\n",
       "35-39    3.601707\n",
       "40+      2.941538\n",
       "Name: Price, dtype: float64"
      ]
     },
     "metadata": {},
     "execution_count": 544
    }
   ],
   "source": [
    "age_mean_df"
   ]
  },
  {
   "cell_type": "code",
   "execution_count": 545,
   "metadata": {},
   "outputs": [],
   "source": [
    "age_count_df = purchase_df.groupby(['Ages']).count()['Price']"
   ]
  },
  {
   "cell_type": "code",
   "execution_count": 546,
   "metadata": {},
   "outputs": [
    {
     "output_type": "execute_result",
     "data": {
      "text/plain": [
       "Ages\n",
       "<10       23\n",
       "10-14     28\n",
       "15-19    136\n",
       "20-24    365\n",
       "25-29    101\n",
       "30-34     73\n",
       "35-39     41\n",
       "40+       13\n",
       "Name: Price, dtype: int64"
      ]
     },
     "metadata": {},
     "execution_count": 546
    }
   ],
   "source": [
    "age_count_df"
   ]
  },
  {
   "cell_type": "code",
   "execution_count": 547,
   "metadata": {},
   "outputs": [],
   "source": [
    "age_demo_df = pd.merge(age_sum_df, age_mean_df, on='Ages', how='outer')"
   ]
  },
  {
   "cell_type": "code",
   "execution_count": 548,
   "metadata": {},
   "outputs": [],
   "source": [
    "age_demo_df['Purchase Count'] = age_count_df"
   ]
  },
  {
   "cell_type": "code",
   "execution_count": 549,
   "metadata": {},
   "outputs": [
    {
     "output_type": "execute_result",
     "data": {
      "text/plain": [
       "       Price_x   Price_y  Purchase Count\n",
       "Ages                                    \n",
       "<10      77.13  3.353478              23\n",
       "10-14    82.78  2.956429              28\n",
       "15-19   412.89  3.035956             136\n",
       "20-24  1114.06  3.052219             365\n",
       "25-29   293.00  2.900990             101\n",
       "30-34   214.00  2.931507              73\n",
       "35-39   147.67  3.601707              41\n",
       "40+      38.24  2.941538              13"
      ],
      "text/html": "<div>\n<style scoped>\n    .dataframe tbody tr th:only-of-type {\n        vertical-align: middle;\n    }\n\n    .dataframe tbody tr th {\n        vertical-align: top;\n    }\n\n    .dataframe thead th {\n        text-align: right;\n    }\n</style>\n<table border=\"1\" class=\"dataframe\">\n  <thead>\n    <tr style=\"text-align: right;\">\n      <th></th>\n      <th>Price_x</th>\n      <th>Price_y</th>\n      <th>Purchase Count</th>\n    </tr>\n    <tr>\n      <th>Ages</th>\n      <th></th>\n      <th></th>\n      <th></th>\n    </tr>\n  </thead>\n  <tbody>\n    <tr>\n      <th>&lt;10</th>\n      <td>77.13</td>\n      <td>3.353478</td>\n      <td>23</td>\n    </tr>\n    <tr>\n      <th>10-14</th>\n      <td>82.78</td>\n      <td>2.956429</td>\n      <td>28</td>\n    </tr>\n    <tr>\n      <th>15-19</th>\n      <td>412.89</td>\n      <td>3.035956</td>\n      <td>136</td>\n    </tr>\n    <tr>\n      <th>20-24</th>\n      <td>1114.06</td>\n      <td>3.052219</td>\n      <td>365</td>\n    </tr>\n    <tr>\n      <th>25-29</th>\n      <td>293.00</td>\n      <td>2.900990</td>\n      <td>101</td>\n    </tr>\n    <tr>\n      <th>30-34</th>\n      <td>214.00</td>\n      <td>2.931507</td>\n      <td>73</td>\n    </tr>\n    <tr>\n      <th>35-39</th>\n      <td>147.67</td>\n      <td>3.601707</td>\n      <td>41</td>\n    </tr>\n    <tr>\n      <th>40+</th>\n      <td>38.24</td>\n      <td>2.941538</td>\n      <td>13</td>\n    </tr>\n  </tbody>\n</table>\n</div>"
     },
     "metadata": {},
     "execution_count": 549
    }
   ],
   "source": [
    "age_demo_df"
   ]
  },
  {
   "cell_type": "code",
   "execution_count": 550,
   "metadata": {},
   "outputs": [],
   "source": [
    "age_demo_df = age_demo_df.rename(columns={\"Price_x\": \"Total Purchase Value\", \"Price_y\": \"Average Purcahse Price\"})"
   ]
  },
  {
   "cell_type": "code",
   "execution_count": 551,
   "metadata": {},
   "outputs": [
    {
     "output_type": "execute_result",
     "data": {
      "text/plain": [
       "       Total Purchase Value  Average Purcahse Price  Purchase Count\n",
       "Ages                                                               \n",
       "<10                   77.13                3.353478              23\n",
       "10-14                 82.78                2.956429              28\n",
       "15-19                412.89                3.035956             136\n",
       "20-24               1114.06                3.052219             365\n",
       "25-29                293.00                2.900990             101\n",
       "30-34                214.00                2.931507              73\n",
       "35-39                147.67                3.601707              41\n",
       "40+                   38.24                2.941538              13"
      ],
      "text/html": "<div>\n<style scoped>\n    .dataframe tbody tr th:only-of-type {\n        vertical-align: middle;\n    }\n\n    .dataframe tbody tr th {\n        vertical-align: top;\n    }\n\n    .dataframe thead th {\n        text-align: right;\n    }\n</style>\n<table border=\"1\" class=\"dataframe\">\n  <thead>\n    <tr style=\"text-align: right;\">\n      <th></th>\n      <th>Total Purchase Value</th>\n      <th>Average Purcahse Price</th>\n      <th>Purchase Count</th>\n    </tr>\n    <tr>\n      <th>Ages</th>\n      <th></th>\n      <th></th>\n      <th></th>\n    </tr>\n  </thead>\n  <tbody>\n    <tr>\n      <th>&lt;10</th>\n      <td>77.13</td>\n      <td>3.353478</td>\n      <td>23</td>\n    </tr>\n    <tr>\n      <th>10-14</th>\n      <td>82.78</td>\n      <td>2.956429</td>\n      <td>28</td>\n    </tr>\n    <tr>\n      <th>15-19</th>\n      <td>412.89</td>\n      <td>3.035956</td>\n      <td>136</td>\n    </tr>\n    <tr>\n      <th>20-24</th>\n      <td>1114.06</td>\n      <td>3.052219</td>\n      <td>365</td>\n    </tr>\n    <tr>\n      <th>25-29</th>\n      <td>293.00</td>\n      <td>2.900990</td>\n      <td>101</td>\n    </tr>\n    <tr>\n      <th>30-34</th>\n      <td>214.00</td>\n      <td>2.931507</td>\n      <td>73</td>\n    </tr>\n    <tr>\n      <th>35-39</th>\n      <td>147.67</td>\n      <td>3.601707</td>\n      <td>41</td>\n    </tr>\n    <tr>\n      <th>40+</th>\n      <td>38.24</td>\n      <td>2.941538</td>\n      <td>13</td>\n    </tr>\n  </tbody>\n</table>\n</div>"
     },
     "metadata": {},
     "execution_count": 551
    }
   ],
   "source": [
    "age_demo_df"
   ]
  },
  {
   "cell_type": "code",
   "execution_count": 552,
   "metadata": {},
   "outputs": [],
   "source": [
    "for_avg_purch_df = purchase_df.groupby([\"Ages\"])"
   ]
  },
  {
   "cell_type": "code",
   "execution_count": 553,
   "metadata": {},
   "outputs": [
    {
     "output_type": "execute_result",
     "data": {
      "text/plain": [
       "<pandas.core.groupby.generic.DataFrameGroupBy object at 0x000001BCB462D7F0>"
      ]
     },
     "metadata": {},
     "execution_count": 553
    }
   ],
   "source": [
    "for_avg_purch_df"
   ]
  },
  {
   "cell_type": "code",
   "execution_count": 554,
   "metadata": {},
   "outputs": [],
   "source": [
    "age_total_per_df = age_sum_df/age_group_df2['Total Players']"
   ]
  },
  {
   "cell_type": "code",
   "execution_count": 555,
   "metadata": {},
   "outputs": [],
   "source": [
    "age_demo_df[\"Avg Total Purchase Per Person\"] =  age_total_per_df"
   ]
  },
  {
   "cell_type": "code",
   "execution_count": 556,
   "metadata": {},
   "outputs": [
    {
     "output_type": "execute_result",
     "data": {
      "text/plain": [
       "       Total Purchase Value  Average Purcahse Price  Purchase Count  \\\n",
       "Ages                                                                  \n",
       "<10                   77.13                3.353478              23   \n",
       "10-14                 82.78                2.956429              28   \n",
       "15-19                412.89                3.035956             136   \n",
       "20-24               1114.06                3.052219             365   \n",
       "25-29                293.00                2.900990             101   \n",
       "30-34                214.00                2.931507              73   \n",
       "35-39                147.67                3.601707              41   \n",
       "40+                   38.24                2.941538              13   \n",
       "\n",
       "       Avg Total Purchase Per Person  \n",
       "Ages                                  \n",
       "<10                         4.537059  \n",
       "10-14                       3.762727  \n",
       "15-19                       3.858785  \n",
       "20-24                       4.318062  \n",
       "25-29                       3.805195  \n",
       "30-34                       4.115385  \n",
       "35-39                       4.763548  \n",
       "40+                         3.186667  "
      ],
      "text/html": "<div>\n<style scoped>\n    .dataframe tbody tr th:only-of-type {\n        vertical-align: middle;\n    }\n\n    .dataframe tbody tr th {\n        vertical-align: top;\n    }\n\n    .dataframe thead th {\n        text-align: right;\n    }\n</style>\n<table border=\"1\" class=\"dataframe\">\n  <thead>\n    <tr style=\"text-align: right;\">\n      <th></th>\n      <th>Total Purchase Value</th>\n      <th>Average Purcahse Price</th>\n      <th>Purchase Count</th>\n      <th>Avg Total Purchase Per Person</th>\n    </tr>\n    <tr>\n      <th>Ages</th>\n      <th></th>\n      <th></th>\n      <th></th>\n      <th></th>\n    </tr>\n  </thead>\n  <tbody>\n    <tr>\n      <th>&lt;10</th>\n      <td>77.13</td>\n      <td>3.353478</td>\n      <td>23</td>\n      <td>4.537059</td>\n    </tr>\n    <tr>\n      <th>10-14</th>\n      <td>82.78</td>\n      <td>2.956429</td>\n      <td>28</td>\n      <td>3.762727</td>\n    </tr>\n    <tr>\n      <th>15-19</th>\n      <td>412.89</td>\n      <td>3.035956</td>\n      <td>136</td>\n      <td>3.858785</td>\n    </tr>\n    <tr>\n      <th>20-24</th>\n      <td>1114.06</td>\n      <td>3.052219</td>\n      <td>365</td>\n      <td>4.318062</td>\n    </tr>\n    <tr>\n      <th>25-29</th>\n      <td>293.00</td>\n      <td>2.900990</td>\n      <td>101</td>\n      <td>3.805195</td>\n    </tr>\n    <tr>\n      <th>30-34</th>\n      <td>214.00</td>\n      <td>2.931507</td>\n      <td>73</td>\n      <td>4.115385</td>\n    </tr>\n    <tr>\n      <th>35-39</th>\n      <td>147.67</td>\n      <td>3.601707</td>\n      <td>41</td>\n      <td>4.763548</td>\n    </tr>\n    <tr>\n      <th>40+</th>\n      <td>38.24</td>\n      <td>2.941538</td>\n      <td>13</td>\n      <td>3.186667</td>\n    </tr>\n  </tbody>\n</table>\n</div>"
     },
     "metadata": {},
     "execution_count": 556
    }
   ],
   "source": [
    "age_demo_df"
   ]
  },
  {
   "cell_type": "code",
   "execution_count": 557,
   "metadata": {},
   "outputs": [],
   "source": [
    "#Purchase Count, Avg Purchase Price, Total Purchase Value in the Age bins\n",
    "\n"
   ]
  },
  {
   "cell_type": "code",
   "execution_count": null,
   "metadata": {},
   "outputs": [],
   "source": []
  },
  {
   "cell_type": "code",
   "execution_count": null,
   "metadata": {},
   "outputs": [],
   "source": []
  },
  {
   "cell_type": "code",
   "execution_count": 558,
   "metadata": {},
   "outputs": [],
   "source": [
    "#Identify the whales by total purchase values then list(in a table)\n",
    "#SN\n",
    "#Purchase Count\n",
    "#Average Purchase Price\n",
    "#Total Purchase Value"
   ]
  },
  {
   "cell_type": "code",
   "execution_count": 559,
   "metadata": {},
   "outputs": [],
   "source": [
    "#clean_df2 = purchase_df.drop_duplicates(\"SN\")"
   ]
  },
  {
   "cell_type": "code",
   "execution_count": 560,
   "metadata": {},
   "outputs": [],
   "source": [
    "#clean_df2"
   ]
  },
  {
   "cell_type": "code",
   "execution_count": 561,
   "metadata": {},
   "outputs": [],
   "source": [
    "whale_sum_df = purchase_df.groupby(['SN']).sum()[\"Price\"]\n"
   ]
  },
  {
   "cell_type": "code",
   "execution_count": 562,
   "metadata": {},
   "outputs": [
    {
     "output_type": "execute_result",
     "data": {
      "text/plain": [
       "SN\n",
       "Lisosia93      18.96\n",
       "Idastidru52    15.45\n",
       "Chamjask73     13.83\n",
       "Iral74         13.62\n",
       "Iskadarya95    13.10\n",
       "               ...  \n",
       "Irilis75        1.02\n",
       "Isurria36       1.02\n",
       "Chanirra79      1.01\n",
       "Aidai61         1.01\n",
       "Alo38           1.00\n",
       "Name: Price, Length: 576, dtype: float64"
      ]
     },
     "metadata": {},
     "execution_count": 562
    }
   ],
   "source": [
    "whale_sum_df.sort_values(ascending=False)"
   ]
  },
  {
   "cell_type": "code",
   "execution_count": 563,
   "metadata": {},
   "outputs": [],
   "source": [
    "whale_mean_df = purchase_df.groupby(['SN']).mean()[\"Price\"]\n"
   ]
  },
  {
   "cell_type": "code",
   "execution_count": 564,
   "metadata": {},
   "outputs": [
    {
     "output_type": "execute_result",
     "data": {
      "text/plain": [
       "SN\n",
       "Dyally87          4.99\n",
       "Chanirrasta87     4.94\n",
       "Yarithsurgue62    4.94\n",
       "Ririp86           4.94\n",
       "Lirtilsa71        4.94\n",
       "                  ... \n",
       "Qilalista41       1.02\n",
       "Isurria36         1.02\n",
       "Chanirra79        1.01\n",
       "Aidai61           1.01\n",
       "Alo38             1.00\n",
       "Name: Price, Length: 576, dtype: float64"
      ]
     },
     "metadata": {},
     "execution_count": 564
    }
   ],
   "source": [
    "whale_mean_df.sort_values(ascending=False)"
   ]
  },
  {
   "cell_type": "code",
   "execution_count": 565,
   "metadata": {},
   "outputs": [],
   "source": [
    "whale_count_df = purchase_df.groupby(['SN']).count()[\"Price\"]"
   ]
  },
  {
   "cell_type": "code",
   "execution_count": 566,
   "metadata": {},
   "outputs": [
    {
     "output_type": "execute_result",
     "data": {
      "text/plain": [
       "SN\n",
       "Lisosia93       5\n",
       "Iral74          4\n",
       "Idastidru52     4\n",
       "Aina42          3\n",
       "Iri67           3\n",
       "               ..\n",
       "Lisossala30     1\n",
       "Lisossanya98    1\n",
       "Lisotesta51     1\n",
       "Lisovynya38     1\n",
       "Adairialis76    1\n",
       "Name: Price, Length: 576, dtype: int64"
      ]
     },
     "metadata": {},
     "execution_count": 566
    }
   ],
   "source": [
    "whale_count_df.sort_values(ascending=False)"
   ]
  },
  {
   "cell_type": "code",
   "execution_count": 567,
   "metadata": {},
   "outputs": [],
   "source": [
    "whale_df = pd.DataFrame({\"Total Purchase Value\": whale_sum_df, \"Average Purchase Price\": whale_mean_df, \"Purchase Count\": whale_count_df})"
   ]
  },
  {
   "cell_type": "code",
   "execution_count": 568,
   "metadata": {},
   "outputs": [
    {
     "output_type": "execute_result",
     "data": {
      "text/plain": [
       "              Total Purchase Value  Average Purchase Price  Purchase Count\n",
       "SN                                                                        \n",
       "Lisosia93                    18.96                3.792000               5\n",
       "Iral74                       13.62                3.405000               4\n",
       "Idastidru52                  15.45                3.862500               4\n",
       "Asur53                        7.44                2.480000               3\n",
       "Inguron55                    11.11                3.703333               3\n",
       "...                            ...                     ...             ...\n",
       "Hala31                        1.02                1.020000               1\n",
       "Haisurra41                    4.40                4.400000               1\n",
       "Hailaphos89                   3.81                3.810000               1\n",
       "Haestyphos66                  1.97                1.970000               1\n",
       "Iskosian40                    3.07                3.070000               1\n",
       "\n",
       "[576 rows x 3 columns]"
      ],
      "text/html": "<div>\n<style scoped>\n    .dataframe tbody tr th:only-of-type {\n        vertical-align: middle;\n    }\n\n    .dataframe tbody tr th {\n        vertical-align: top;\n    }\n\n    .dataframe thead th {\n        text-align: right;\n    }\n</style>\n<table border=\"1\" class=\"dataframe\">\n  <thead>\n    <tr style=\"text-align: right;\">\n      <th></th>\n      <th>Total Purchase Value</th>\n      <th>Average Purchase Price</th>\n      <th>Purchase Count</th>\n    </tr>\n    <tr>\n      <th>SN</th>\n      <th></th>\n      <th></th>\n      <th></th>\n    </tr>\n  </thead>\n  <tbody>\n    <tr>\n      <th>Lisosia93</th>\n      <td>18.96</td>\n      <td>3.792000</td>\n      <td>5</td>\n    </tr>\n    <tr>\n      <th>Iral74</th>\n      <td>13.62</td>\n      <td>3.405000</td>\n      <td>4</td>\n    </tr>\n    <tr>\n      <th>Idastidru52</th>\n      <td>15.45</td>\n      <td>3.862500</td>\n      <td>4</td>\n    </tr>\n    <tr>\n      <th>Asur53</th>\n      <td>7.44</td>\n      <td>2.480000</td>\n      <td>3</td>\n    </tr>\n    <tr>\n      <th>Inguron55</th>\n      <td>11.11</td>\n      <td>3.703333</td>\n      <td>3</td>\n    </tr>\n    <tr>\n      <th>...</th>\n      <td>...</td>\n      <td>...</td>\n      <td>...</td>\n    </tr>\n    <tr>\n      <th>Hala31</th>\n      <td>1.02</td>\n      <td>1.020000</td>\n      <td>1</td>\n    </tr>\n    <tr>\n      <th>Haisurra41</th>\n      <td>4.40</td>\n      <td>4.400000</td>\n      <td>1</td>\n    </tr>\n    <tr>\n      <th>Hailaphos89</th>\n      <td>3.81</td>\n      <td>3.810000</td>\n      <td>1</td>\n    </tr>\n    <tr>\n      <th>Haestyphos66</th>\n      <td>1.97</td>\n      <td>1.970000</td>\n      <td>1</td>\n    </tr>\n    <tr>\n      <th>Iskosian40</th>\n      <td>3.07</td>\n      <td>3.070000</td>\n      <td>1</td>\n    </tr>\n  </tbody>\n</table>\n<p>576 rows × 3 columns</p>\n</div>"
     },
     "metadata": {},
     "execution_count": 568
    }
   ],
   "source": [
    "whale_df.sort_values(ascending=False, by=\"Purchase Count\")"
   ]
  },
  {
   "cell_type": "code",
   "execution_count": 569,
   "metadata": {},
   "outputs": [
    {
     "output_type": "execute_result",
     "data": {
      "text/plain": [
       "               Total Purchase Value  Average Purchase Price  Purchase Count\n",
       "SN                                                                         \n",
       "Zontibe81                      8.03                2.676667               3\n",
       "Zhisrisu83                     7.89                3.945000               2\n",
       "Yoishirrala98                  4.58                4.580000               1\n",
       "Yathedeu43                     6.02                3.010000               2\n",
       "Yathecal82                     6.22                2.073333               3\n",
       "...                             ...                     ...             ...\n",
       "Aelaria33                      1.79                1.790000               1\n",
       "Aela59                         4.32                4.320000               1\n",
       "Aeda94                         4.91                4.910000               1\n",
       "Adastirin33                    4.48                4.480000               1\n",
       "Adairialis76                   2.28                2.280000               1\n",
       "\n",
       "[576 rows x 3 columns]"
      ],
      "text/html": "<div>\n<style scoped>\n    .dataframe tbody tr th:only-of-type {\n        vertical-align: middle;\n    }\n\n    .dataframe tbody tr th {\n        vertical-align: top;\n    }\n\n    .dataframe thead th {\n        text-align: right;\n    }\n</style>\n<table border=\"1\" class=\"dataframe\">\n  <thead>\n    <tr style=\"text-align: right;\">\n      <th></th>\n      <th>Total Purchase Value</th>\n      <th>Average Purchase Price</th>\n      <th>Purchase Count</th>\n    </tr>\n    <tr>\n      <th>SN</th>\n      <th></th>\n      <th></th>\n      <th></th>\n    </tr>\n  </thead>\n  <tbody>\n    <tr>\n      <th>Zontibe81</th>\n      <td>8.03</td>\n      <td>2.676667</td>\n      <td>3</td>\n    </tr>\n    <tr>\n      <th>Zhisrisu83</th>\n      <td>7.89</td>\n      <td>3.945000</td>\n      <td>2</td>\n    </tr>\n    <tr>\n      <th>Yoishirrala98</th>\n      <td>4.58</td>\n      <td>4.580000</td>\n      <td>1</td>\n    </tr>\n    <tr>\n      <th>Yathedeu43</th>\n      <td>6.02</td>\n      <td>3.010000</td>\n      <td>2</td>\n    </tr>\n    <tr>\n      <th>Yathecal82</th>\n      <td>6.22</td>\n      <td>2.073333</td>\n      <td>3</td>\n    </tr>\n    <tr>\n      <th>...</th>\n      <td>...</td>\n      <td>...</td>\n      <td>...</td>\n    </tr>\n    <tr>\n      <th>Aelaria33</th>\n      <td>1.79</td>\n      <td>1.790000</td>\n      <td>1</td>\n    </tr>\n    <tr>\n      <th>Aela59</th>\n      <td>4.32</td>\n      <td>4.320000</td>\n      <td>1</td>\n    </tr>\n    <tr>\n      <th>Aeda94</th>\n      <td>4.91</td>\n      <td>4.910000</td>\n      <td>1</td>\n    </tr>\n    <tr>\n      <th>Adastirin33</th>\n      <td>4.48</td>\n      <td>4.480000</td>\n      <td>1</td>\n    </tr>\n    <tr>\n      <th>Adairialis76</th>\n      <td>2.28</td>\n      <td>2.280000</td>\n      <td>1</td>\n    </tr>\n  </tbody>\n</table>\n<p>576 rows × 3 columns</p>\n</div>"
     },
     "metadata": {},
     "execution_count": 569
    }
   ],
   "source": [
    "whale_df.sort_values(by=\"SN\", ascending=False)"
   ]
  },
  {
   "cell_type": "code",
   "execution_count": 570,
   "metadata": {},
   "outputs": [],
   "source": [
    "#Identify the 5 Most Popular Items by Purchase Count, then list(in a table)\n",
    "#Item ID\n",
    "#Item Name\n",
    "#Purchase Count\n",
    "#Item Price\n",
    "#Total Purchase Value"
   ]
  },
  {
   "cell_type": "code",
   "execution_count": 571,
   "metadata": {},
   "outputs": [
    {
     "output_type": "execute_result",
     "data": {
      "text/plain": [
       "     Purchase ID             SN  Age  Gender  Item ID  \\\n",
       "0              0        Lisim78   20    Male      108   \n",
       "1              1    Lisovynya38   40    Male      143   \n",
       "2              2     Ithergue48   24    Male       92   \n",
       "3              3  Chamassasya86   24    Male      100   \n",
       "4              4      Iskosia90   23    Male      131   \n",
       "..           ...            ...  ...     ...      ...   \n",
       "775          775     Aethedru70   21  Female       60   \n",
       "776          776         Iral74   21    Male      164   \n",
       "777          777     Yathecal72   20    Male       67   \n",
       "778          778        Sisur91    7    Male       92   \n",
       "779          779      Ennrian78   24    Male       50   \n",
       "\n",
       "                                     Item Name  Price   Ages  \n",
       "0    Extraction, Quickblade Of Trembling Hands   3.53  20-24  \n",
       "1                            Frenzied Scimitar   1.56    40+  \n",
       "2                                 Final Critic   4.88  20-24  \n",
       "3                                  Blindscythe   3.27  20-24  \n",
       "4                                         Fury   1.44  20-24  \n",
       "..                                         ...    ...    ...  \n",
       "775                                       Wolf   3.54  20-24  \n",
       "776                           Exiled Doomblade   1.63  20-24  \n",
       "777      Celeste, Incarnation of the Corrupted   3.46  20-24  \n",
       "778                               Final Critic   4.19    <10  \n",
       "779                                       Dawn   4.60  20-24  \n",
       "\n",
       "[780 rows x 8 columns]"
      ],
      "text/html": "<div>\n<style scoped>\n    .dataframe tbody tr th:only-of-type {\n        vertical-align: middle;\n    }\n\n    .dataframe tbody tr th {\n        vertical-align: top;\n    }\n\n    .dataframe thead th {\n        text-align: right;\n    }\n</style>\n<table border=\"1\" class=\"dataframe\">\n  <thead>\n    <tr style=\"text-align: right;\">\n      <th></th>\n      <th>Purchase ID</th>\n      <th>SN</th>\n      <th>Age</th>\n      <th>Gender</th>\n      <th>Item ID</th>\n      <th>Item Name</th>\n      <th>Price</th>\n      <th>Ages</th>\n    </tr>\n  </thead>\n  <tbody>\n    <tr>\n      <th>0</th>\n      <td>0</td>\n      <td>Lisim78</td>\n      <td>20</td>\n      <td>Male</td>\n      <td>108</td>\n      <td>Extraction, Quickblade Of Trembling Hands</td>\n      <td>3.53</td>\n      <td>20-24</td>\n    </tr>\n    <tr>\n      <th>1</th>\n      <td>1</td>\n      <td>Lisovynya38</td>\n      <td>40</td>\n      <td>Male</td>\n      <td>143</td>\n      <td>Frenzied Scimitar</td>\n      <td>1.56</td>\n      <td>40+</td>\n    </tr>\n    <tr>\n      <th>2</th>\n      <td>2</td>\n      <td>Ithergue48</td>\n      <td>24</td>\n      <td>Male</td>\n      <td>92</td>\n      <td>Final Critic</td>\n      <td>4.88</td>\n      <td>20-24</td>\n    </tr>\n    <tr>\n      <th>3</th>\n      <td>3</td>\n      <td>Chamassasya86</td>\n      <td>24</td>\n      <td>Male</td>\n      <td>100</td>\n      <td>Blindscythe</td>\n      <td>3.27</td>\n      <td>20-24</td>\n    </tr>\n    <tr>\n      <th>4</th>\n      <td>4</td>\n      <td>Iskosia90</td>\n      <td>23</td>\n      <td>Male</td>\n      <td>131</td>\n      <td>Fury</td>\n      <td>1.44</td>\n      <td>20-24</td>\n    </tr>\n    <tr>\n      <th>...</th>\n      <td>...</td>\n      <td>...</td>\n      <td>...</td>\n      <td>...</td>\n      <td>...</td>\n      <td>...</td>\n      <td>...</td>\n      <td>...</td>\n    </tr>\n    <tr>\n      <th>775</th>\n      <td>775</td>\n      <td>Aethedru70</td>\n      <td>21</td>\n      <td>Female</td>\n      <td>60</td>\n      <td>Wolf</td>\n      <td>3.54</td>\n      <td>20-24</td>\n    </tr>\n    <tr>\n      <th>776</th>\n      <td>776</td>\n      <td>Iral74</td>\n      <td>21</td>\n      <td>Male</td>\n      <td>164</td>\n      <td>Exiled Doomblade</td>\n      <td>1.63</td>\n      <td>20-24</td>\n    </tr>\n    <tr>\n      <th>777</th>\n      <td>777</td>\n      <td>Yathecal72</td>\n      <td>20</td>\n      <td>Male</td>\n      <td>67</td>\n      <td>Celeste, Incarnation of the Corrupted</td>\n      <td>3.46</td>\n      <td>20-24</td>\n    </tr>\n    <tr>\n      <th>778</th>\n      <td>778</td>\n      <td>Sisur91</td>\n      <td>7</td>\n      <td>Male</td>\n      <td>92</td>\n      <td>Final Critic</td>\n      <td>4.19</td>\n      <td>&lt;10</td>\n    </tr>\n    <tr>\n      <th>779</th>\n      <td>779</td>\n      <td>Ennrian78</td>\n      <td>24</td>\n      <td>Male</td>\n      <td>50</td>\n      <td>Dawn</td>\n      <td>4.60</td>\n      <td>20-24</td>\n    </tr>\n  </tbody>\n</table>\n<p>780 rows × 8 columns</p>\n</div>"
     },
     "metadata": {},
     "execution_count": 571
    }
   ],
   "source": [
    "purchase_df"
   ]
  },
  {
   "cell_type": "code",
   "execution_count": 572,
   "metadata": {},
   "outputs": [],
   "source": [
    "item_df = purchase_df.loc[:, [\"Item Name\", \"Item ID\", \"Price\"]]"
   ]
  },
  {
   "cell_type": "code",
   "execution_count": 573,
   "metadata": {},
   "outputs": [],
   "source": [
    "item_sum_df = item_df.groupby([\"Item ID\", \"Item Name\"]).sum()[\"Price\"]"
   ]
  },
  {
   "cell_type": "code",
   "execution_count": 574,
   "metadata": {},
   "outputs": [],
   "source": [
    "item_mean_df = item_df.groupby([\"Item ID\", \"Item Name\"]).mean()[\"Price\"]\n"
   ]
  },
  {
   "cell_type": "code",
   "execution_count": 575,
   "metadata": {},
   "outputs": [],
   "source": [
    "item_count_df = item_df.groupby([\"Item ID\", \"Item Name\"]).count()[\"Price\"]"
   ]
  },
  {
   "cell_type": "code",
   "execution_count": 576,
   "metadata": {},
   "outputs": [],
   "source": [
    "popular_items_df = pd.DataFrame({\"Purchase Count\": item_count_df, \"Item Price\": item_mean_df, \"Total Purchase Value\": item_sum_df})"
   ]
  },
  {
   "cell_type": "code",
   "execution_count": 577,
   "metadata": {},
   "outputs": [],
   "source": [
    "pop_items_df2 = popular_items_df"
   ]
  },
  {
   "cell_type": "code",
   "execution_count": 578,
   "metadata": {},
   "outputs": [
    {
     "output_type": "execute_result",
     "data": {
      "text/plain": [
       "                                                      Purchase Count  \\\n",
       "Item ID Item Name                                                      \n",
       "92      Final Critic                                              13   \n",
       "178     Oathbreaker, Last Hope of the Breaking Storm              12   \n",
       "145     Fiery Glass Crusader                                       9   \n",
       "132     Persuasion                                                 9   \n",
       "108     Extraction, Quickblade Of Trembling Hands                  9   \n",
       "...                                                              ...   \n",
       "42      The Decapitator                                            1   \n",
       "51      Endbringer                                                 1   \n",
       "118     Ghost Reaver, Longsword of Magic                           1   \n",
       "104     Gladiator's Glaive                                         1   \n",
       "91      Celeste                                                    1   \n",
       "\n",
       "                                                      Item Price  \\\n",
       "Item ID Item Name                                                  \n",
       "92      Final Critic                                    4.614615   \n",
       "178     Oathbreaker, Last Hope of the Breaking Storm    4.230000   \n",
       "145     Fiery Glass Crusader                            4.580000   \n",
       "132     Persuasion                                      3.221111   \n",
       "108     Extraction, Quickblade Of Trembling Hands       3.530000   \n",
       "...                                                          ...   \n",
       "42      The Decapitator                                 1.750000   \n",
       "51      Endbringer                                      4.660000   \n",
       "118     Ghost Reaver, Longsword of Magic                2.170000   \n",
       "104     Gladiator's Glaive                              1.930000   \n",
       "91      Celeste                                         4.170000   \n",
       "\n",
       "                                                      Total Purchase Value  \n",
       "Item ID Item Name                                                           \n",
       "92      Final Critic                                                 59.99  \n",
       "178     Oathbreaker, Last Hope of the Breaking Storm                 50.76  \n",
       "145     Fiery Glass Crusader                                         41.22  \n",
       "132     Persuasion                                                   28.99  \n",
       "108     Extraction, Quickblade Of Trembling Hands                    31.77  \n",
       "...                                                                    ...  \n",
       "42      The Decapitator                                               1.75  \n",
       "51      Endbringer                                                    4.66  \n",
       "118     Ghost Reaver, Longsword of Magic                              2.17  \n",
       "104     Gladiator's Glaive                                            1.93  \n",
       "91      Celeste                                                       4.17  \n",
       "\n",
       "[179 rows x 3 columns]"
      ],
      "text/html": "<div>\n<style scoped>\n    .dataframe tbody tr th:only-of-type {\n        vertical-align: middle;\n    }\n\n    .dataframe tbody tr th {\n        vertical-align: top;\n    }\n\n    .dataframe thead th {\n        text-align: right;\n    }\n</style>\n<table border=\"1\" class=\"dataframe\">\n  <thead>\n    <tr style=\"text-align: right;\">\n      <th></th>\n      <th></th>\n      <th>Purchase Count</th>\n      <th>Item Price</th>\n      <th>Total Purchase Value</th>\n    </tr>\n    <tr>\n      <th>Item ID</th>\n      <th>Item Name</th>\n      <th></th>\n      <th></th>\n      <th></th>\n    </tr>\n  </thead>\n  <tbody>\n    <tr>\n      <th>92</th>\n      <th>Final Critic</th>\n      <td>13</td>\n      <td>4.614615</td>\n      <td>59.99</td>\n    </tr>\n    <tr>\n      <th>178</th>\n      <th>Oathbreaker, Last Hope of the Breaking Storm</th>\n      <td>12</td>\n      <td>4.230000</td>\n      <td>50.76</td>\n    </tr>\n    <tr>\n      <th>145</th>\n      <th>Fiery Glass Crusader</th>\n      <td>9</td>\n      <td>4.580000</td>\n      <td>41.22</td>\n    </tr>\n    <tr>\n      <th>132</th>\n      <th>Persuasion</th>\n      <td>9</td>\n      <td>3.221111</td>\n      <td>28.99</td>\n    </tr>\n    <tr>\n      <th>108</th>\n      <th>Extraction, Quickblade Of Trembling Hands</th>\n      <td>9</td>\n      <td>3.530000</td>\n      <td>31.77</td>\n    </tr>\n    <tr>\n      <th>...</th>\n      <th>...</th>\n      <td>...</td>\n      <td>...</td>\n      <td>...</td>\n    </tr>\n    <tr>\n      <th>42</th>\n      <th>The Decapitator</th>\n      <td>1</td>\n      <td>1.750000</td>\n      <td>1.75</td>\n    </tr>\n    <tr>\n      <th>51</th>\n      <th>Endbringer</th>\n      <td>1</td>\n      <td>4.660000</td>\n      <td>4.66</td>\n    </tr>\n    <tr>\n      <th>118</th>\n      <th>Ghost Reaver, Longsword of Magic</th>\n      <td>1</td>\n      <td>2.170000</td>\n      <td>2.17</td>\n    </tr>\n    <tr>\n      <th>104</th>\n      <th>Gladiator's Glaive</th>\n      <td>1</td>\n      <td>1.930000</td>\n      <td>1.93</td>\n    </tr>\n    <tr>\n      <th>91</th>\n      <th>Celeste</th>\n      <td>1</td>\n      <td>4.170000</td>\n      <td>4.17</td>\n    </tr>\n  </tbody>\n</table>\n<p>179 rows × 3 columns</p>\n</div>"
     },
     "metadata": {},
     "execution_count": 578
    }
   ],
   "source": [
    "popular_items_df.sort_values(ascending=False, by=\"Purchase Count\")"
   ]
  },
  {
   "cell_type": "code",
   "execution_count": 579,
   "metadata": {},
   "outputs": [],
   "source": [
    "#Identify the 5 Most Profitable Items by total purchase value, then list(in a table)\n",
    "#Item Id\n",
    "#Item Name\n",
    "#Purchase Count\n",
    "#Item Price\n",
    "#Total Purchase Value"
   ]
  },
  {
   "cell_type": "code",
   "execution_count": 580,
   "metadata": {},
   "outputs": [
    {
     "output_type": "execute_result",
     "data": {
      "text/plain": [
       "                                                      Purchase Count  \\\n",
       "Item ID Item Name                                                      \n",
       "92      Final Critic                                              13   \n",
       "178     Oathbreaker, Last Hope of the Breaking Storm              12   \n",
       "82      Nirvana                                                    9   \n",
       "145     Fiery Glass Crusader                                       9   \n",
       "103     Singed Scalpel                                             8   \n",
       "...                                                              ...   \n",
       "28      Flux, Destroyer of Due Diligence                           2   \n",
       "125     Whistling Mithril Warblade                                 2   \n",
       "126     Exiled Mithril Longsword                                   1   \n",
       "104     Gladiator's Glaive                                         1   \n",
       "42      The Decapitator                                            1   \n",
       "\n",
       "                                                      Item Price  \\\n",
       "Item ID Item Name                                                  \n",
       "92      Final Critic                                    4.614615   \n",
       "178     Oathbreaker, Last Hope of the Breaking Storm    4.230000   \n",
       "82      Nirvana                                         4.900000   \n",
       "145     Fiery Glass Crusader                            4.580000   \n",
       "103     Singed Scalpel                                  4.350000   \n",
       "...                                                          ...   \n",
       "28      Flux, Destroyer of Due Diligence                1.060000   \n",
       "125     Whistling Mithril Warblade                      1.000000   \n",
       "126     Exiled Mithril Longsword                        2.000000   \n",
       "104     Gladiator's Glaive                              1.930000   \n",
       "42      The Decapitator                                 1.750000   \n",
       "\n",
       "                                                      Total Purchase Value  \n",
       "Item ID Item Name                                                           \n",
       "92      Final Critic                                                 59.99  \n",
       "178     Oathbreaker, Last Hope of the Breaking Storm                 50.76  \n",
       "82      Nirvana                                                      44.10  \n",
       "145     Fiery Glass Crusader                                         41.22  \n",
       "103     Singed Scalpel                                               34.80  \n",
       "...                                                                    ...  \n",
       "28      Flux, Destroyer of Due Diligence                              2.12  \n",
       "125     Whistling Mithril Warblade                                    2.00  \n",
       "126     Exiled Mithril Longsword                                      2.00  \n",
       "104     Gladiator's Glaive                                            1.93  \n",
       "42      The Decapitator                                               1.75  \n",
       "\n",
       "[179 rows x 3 columns]"
      ],
      "text/html": "<div>\n<style scoped>\n    .dataframe tbody tr th:only-of-type {\n        vertical-align: middle;\n    }\n\n    .dataframe tbody tr th {\n        vertical-align: top;\n    }\n\n    .dataframe thead th {\n        text-align: right;\n    }\n</style>\n<table border=\"1\" class=\"dataframe\">\n  <thead>\n    <tr style=\"text-align: right;\">\n      <th></th>\n      <th></th>\n      <th>Purchase Count</th>\n      <th>Item Price</th>\n      <th>Total Purchase Value</th>\n    </tr>\n    <tr>\n      <th>Item ID</th>\n      <th>Item Name</th>\n      <th></th>\n      <th></th>\n      <th></th>\n    </tr>\n  </thead>\n  <tbody>\n    <tr>\n      <th>92</th>\n      <th>Final Critic</th>\n      <td>13</td>\n      <td>4.614615</td>\n      <td>59.99</td>\n    </tr>\n    <tr>\n      <th>178</th>\n      <th>Oathbreaker, Last Hope of the Breaking Storm</th>\n      <td>12</td>\n      <td>4.230000</td>\n      <td>50.76</td>\n    </tr>\n    <tr>\n      <th>82</th>\n      <th>Nirvana</th>\n      <td>9</td>\n      <td>4.900000</td>\n      <td>44.10</td>\n    </tr>\n    <tr>\n      <th>145</th>\n      <th>Fiery Glass Crusader</th>\n      <td>9</td>\n      <td>4.580000</td>\n      <td>41.22</td>\n    </tr>\n    <tr>\n      <th>103</th>\n      <th>Singed Scalpel</th>\n      <td>8</td>\n      <td>4.350000</td>\n      <td>34.80</td>\n    </tr>\n    <tr>\n      <th>...</th>\n      <th>...</th>\n      <td>...</td>\n      <td>...</td>\n      <td>...</td>\n    </tr>\n    <tr>\n      <th>28</th>\n      <th>Flux, Destroyer of Due Diligence</th>\n      <td>2</td>\n      <td>1.060000</td>\n      <td>2.12</td>\n    </tr>\n    <tr>\n      <th>125</th>\n      <th>Whistling Mithril Warblade</th>\n      <td>2</td>\n      <td>1.000000</td>\n      <td>2.00</td>\n    </tr>\n    <tr>\n      <th>126</th>\n      <th>Exiled Mithril Longsword</th>\n      <td>1</td>\n      <td>2.000000</td>\n      <td>2.00</td>\n    </tr>\n    <tr>\n      <th>104</th>\n      <th>Gladiator's Glaive</th>\n      <td>1</td>\n      <td>1.930000</td>\n      <td>1.93</td>\n    </tr>\n    <tr>\n      <th>42</th>\n      <th>The Decapitator</th>\n      <td>1</td>\n      <td>1.750000</td>\n      <td>1.75</td>\n    </tr>\n  </tbody>\n</table>\n<p>179 rows × 3 columns</p>\n</div>"
     },
     "metadata": {},
     "execution_count": 580
    }
   ],
   "source": [
    "popular_items_df.sort_values(ascending=False, by=\"Total Purchase Value\")"
   ]
  },
  {
   "cell_type": "code",
   "execution_count": null,
   "metadata": {},
   "outputs": [],
   "source": []
  }
 ]
}